{
 "cells": [
  {
   "cell_type": "code",
   "execution_count": 0,
   "metadata": {
    "colab": {},
    "colab_type": "code",
    "id": "hqpgNgtbkcB-"
   },
   "outputs": [],
   "source": []
  },
  {
   "cell_type": "markdown",
   "metadata": {
    "colab_type": "text",
    "id": "ooqOmfRqXIsE"
   },
   "source": [
    "Best Mean Cross Validation Score is 0.8501863354037267 for StackingClassifier\n",
    "\n",
    "Best Mean Cross Validation Score is {'final_estimator__C': 0.2, 'stack_method': 'auto'}\n",
    "Train score is 0.9113607990012484\n",
    "Test score is 0.8222222222222222\n",
    "    \n",
    "\n",
    "GridSearchCV(cv=5, error_score=nan,\n",
    "             estimator=StackingClassifier(cv=None,\n",
    "                                          estimators=[('xgbc',\n",
    "                                                       XGBClassifier(base_score=0.5,\n",
    "                                                                     booster='gbtree',\n",
    "                                                                     colsample_bylevel=1,\n",
    "                                                                     colsample_bynode=1,\n",
    "                                                                     colsample_bytree=1,\n",
    "                                                                     early_stopping_rounds=2,\n",
    "                                                                     gamma=0,\n",
    "                                                                     learning_rate=0.2,\n",
    "                                                                     max_delta_step=0,\n",
    "                                                                     max_depth=6,\n",
    "                                                                     min_child_weight=7,\n",
    "                                                                     missing=None,\n",
    "                                                                     n_estimators=200,\n",
    "                                                                     n_jobs=1,\n",
    "                                                                     nthread=None,\n",
    "                                                                     objec...\n",
    "                                                                             n_jobs=None,\n",
    "                                                                             penalty='l2',\n",
    "                                                                             random_state=None,\n",
    "                                                                             solver='lbfgs',\n",
    "                                                                             tol=0.0001,\n",
    "                                                                             verbose=0,\n",
    "                                                                             warm_start=False),\n",
    "                                          n_jobs=None, passthrough=False,\n",
    "                                          stack_method='auto', verbose=0),\n",
    "             iid='deprecated', n_jobs=None,\n",
    "             param_grid={'final_estimator__C': [0.1, 0.2],\n",
    "                         'stack_method': ['auto', 'predict_proba']},\n",
    "             pre_dispatch='2*n_jobs', refit=True, return_train_score=True,\n",
    "             scoring=None, verbose=0)\n",
    "\n",
    "\n",
    "\n",
    " \n",
    "    \n",
    "\n",
    "XGB\n",
    "\n",
    "\n",
    "\n",
    "Best Mean Cross Validation Score is 0.8489130434782609\n",
    "Best Mean Cross Validation Score is {'learning_rate': 0.2, 'max_depth': 6, 'min_child_weight': 7, 'n_estimators': 200, 'subsample': 0.6}\n",
    "Train score is 0.8913857677902621\n",
    "Test score is 0.8333333333333334\n"
   ]
  },
  {
   "cell_type": "markdown",
   "metadata": {
    "ExecuteTime": {
     "end_time": "2020-03-09T07:02:39.550710Z",
     "start_time": "2020-03-09T07:02:39.545197Z"
    },
    "colab_type": "text",
    "id": "RudUhDVbkcCH"
   },
   "source": [
    "# Results\n",
    "- Models used with hyperparameters \n",
    "- Best Model parameters \n",
    "- Mean Cross validation score of Best model\n",
    "- Test score of best model \n",
    "- Train score of best model "
   ]
  },
  {
   "cell_type": "code",
   "execution_count": 0,
   "metadata": {
    "ExecuteTime": {
     "end_time": "2020-03-09T07:31:07.121601Z",
     "start_time": "2020-03-09T07:31:07.116586Z"
    },
    "colab": {
     "base_uri": "https://localhost:8080/",
     "height": 540
    },
    "colab_type": "code",
    "id": "eAoLdJI0kcCI",
    "outputId": "6a031f69-ea70-4b16-b77d-026d7331e2ea"
   },
   "outputs": [
    {
     "name": "stdout",
     "output_type": "stream",
     "text": [
      "Requirement already satisfied: feature-engine in /usr/local/lib/python3.6/dist-packages (0.3.1)\n",
      "Requirement already satisfied: numpydoc>=0.6.0 in /usr/local/lib/python3.6/dist-packages (from feature-engine) (0.9.2)\n",
      "Requirement already satisfied: scikit-learn>=0.18.1 in /usr/local/lib/python3.6/dist-packages (from feature-engine) (0.22.2.post1)\n",
      "Requirement already satisfied: scipy>=0.19.0 in /usr/local/lib/python3.6/dist-packages (from feature-engine) (1.4.1)\n",
      "Requirement already satisfied: pandas>=0.23.0 in /usr/local/lib/python3.6/dist-packages (from feature-engine) (1.0.3)\n",
      "Requirement already satisfied: numpy>=1.12.1 in /usr/local/lib/python3.6/dist-packages (from feature-engine) (1.18.2)\n",
      "Requirement already satisfied: statsmodels>=0.8.0 in /usr/local/lib/python3.6/dist-packages (from feature-engine) (0.10.2)\n",
      "Requirement already satisfied: Jinja2>=2.3 in /usr/local/lib/python3.6/dist-packages (from numpydoc>=0.6.0->feature-engine) (2.11.1)\n",
      "Requirement already satisfied: sphinx>=1.6.5 in /usr/local/lib/python3.6/dist-packages (from numpydoc>=0.6.0->feature-engine) (1.8.5)\n",
      "Requirement already satisfied: joblib>=0.11 in /usr/local/lib/python3.6/dist-packages (from scikit-learn>=0.18.1->feature-engine) (0.14.1)\n",
      "Requirement already satisfied: pytz>=2017.2 in /usr/local/lib/python3.6/dist-packages (from pandas>=0.23.0->feature-engine) (2018.9)\n",
      "Requirement already satisfied: python-dateutil>=2.6.1 in /usr/local/lib/python3.6/dist-packages (from pandas>=0.23.0->feature-engine) (2.8.1)\n",
      "Requirement already satisfied: patsy>=0.4.0 in /usr/local/lib/python3.6/dist-packages (from statsmodels>=0.8.0->feature-engine) (0.5.1)\n",
      "Requirement already satisfied: MarkupSafe>=0.23 in /usr/local/lib/python3.6/dist-packages (from Jinja2>=2.3->numpydoc>=0.6.0->feature-engine) (1.1.1)\n",
      "Requirement already satisfied: six>=1.5 in /usr/local/lib/python3.6/dist-packages (from sphinx>=1.6.5->numpydoc>=0.6.0->feature-engine) (1.12.0)\n",
      "Requirement already satisfied: snowballstemmer>=1.1 in /usr/local/lib/python3.6/dist-packages (from sphinx>=1.6.5->numpydoc>=0.6.0->feature-engine) (2.0.0)\n",
      "Requirement already satisfied: alabaster<0.8,>=0.7 in /usr/local/lib/python3.6/dist-packages (from sphinx>=1.6.5->numpydoc>=0.6.0->feature-engine) (0.7.12)\n",
      "Requirement already satisfied: docutils>=0.11 in /usr/local/lib/python3.6/dist-packages (from sphinx>=1.6.5->numpydoc>=0.6.0->feature-engine) (0.15.2)\n",
      "Requirement already satisfied: setuptools in /usr/local/lib/python3.6/dist-packages (from sphinx>=1.6.5->numpydoc>=0.6.0->feature-engine) (46.1.3)\n",
      "Requirement already satisfied: sphinxcontrib-websupport in /usr/local/lib/python3.6/dist-packages (from sphinx>=1.6.5->numpydoc>=0.6.0->feature-engine) (1.2.1)\n",
      "Requirement already satisfied: packaging in /usr/local/lib/python3.6/dist-packages (from sphinx>=1.6.5->numpydoc>=0.6.0->feature-engine) (20.3)\n",
      "Requirement already satisfied: babel!=2.0,>=1.3 in /usr/local/lib/python3.6/dist-packages (from sphinx>=1.6.5->numpydoc>=0.6.0->feature-engine) (2.8.0)\n",
      "Requirement already satisfied: Pygments>=2.0 in /usr/local/lib/python3.6/dist-packages (from sphinx>=1.6.5->numpydoc>=0.6.0->feature-engine) (2.1.3)\n",
      "Requirement already satisfied: imagesize in /usr/local/lib/python3.6/dist-packages (from sphinx>=1.6.5->numpydoc>=0.6.0->feature-engine) (1.2.0)\n",
      "Requirement already satisfied: requests>=2.0.0 in /usr/local/lib/python3.6/dist-packages (from sphinx>=1.6.5->numpydoc>=0.6.0->feature-engine) (2.21.0)\n",
      "Requirement already satisfied: pyparsing>=2.0.2 in /usr/local/lib/python3.6/dist-packages (from packaging->sphinx>=1.6.5->numpydoc>=0.6.0->feature-engine) (2.4.7)\n",
      "Requirement already satisfied: idna<2.9,>=2.5 in /usr/local/lib/python3.6/dist-packages (from requests>=2.0.0->sphinx>=1.6.5->numpydoc>=0.6.0->feature-engine) (2.8)\n",
      "Requirement already satisfied: urllib3<1.25,>=1.21.1 in /usr/local/lib/python3.6/dist-packages (from requests>=2.0.0->sphinx>=1.6.5->numpydoc>=0.6.0->feature-engine) (1.24.3)\n",
      "Requirement already satisfied: chardet<3.1.0,>=3.0.2 in /usr/local/lib/python3.6/dist-packages (from requests>=2.0.0->sphinx>=1.6.5->numpydoc>=0.6.0->feature-engine) (3.0.4)\n",
      "Requirement already satisfied: certifi>=2017.4.17 in /usr/local/lib/python3.6/dist-packages (from requests>=2.0.0->sphinx>=1.6.5->numpydoc>=0.6.0->feature-engine) (2020.4.5.1)\n"
     ]
    }
   ],
   "source": [
    "import numpy as np\n",
    "import matplotlib.pyplot as plt\n",
    "import pandas as pd\n",
    "import seaborn as sns\n",
    "%matplotlib inline\n",
    "!pip install feature-engine"
   ]
  },
  {
   "cell_type": "code",
   "execution_count": 0,
   "metadata": {
    "ExecuteTime": {
     "end_time": "2020-03-09T07:31:08.392767Z",
     "start_time": "2020-03-09T07:31:08.370710Z"
    },
    "colab": {
     "base_uri": "https://localhost:8080/",
     "height": 447
    },
    "colab_type": "code",
    "id": "955UCRLUkcCL",
    "outputId": "9053ae94-09f8-4950-9a1e-a880440c100a"
   },
   "outputs": [
    {
     "data": {
      "text/html": [
       "<div>\n",
       "<style scoped>\n",
       "    .dataframe tbody tr th:only-of-type {\n",
       "        vertical-align: middle;\n",
       "    }\n",
       "\n",
       "    .dataframe tbody tr th {\n",
       "        vertical-align: top;\n",
       "    }\n",
       "\n",
       "    .dataframe thead th {\n",
       "        text-align: right;\n",
       "    }\n",
       "</style>\n",
       "<table border=\"1\" class=\"dataframe\">\n",
       "  <thead>\n",
       "    <tr style=\"text-align: right;\">\n",
       "      <th></th>\n",
       "      <th>PassengerId</th>\n",
       "      <th>Survived</th>\n",
       "      <th>Pclass</th>\n",
       "      <th>Name</th>\n",
       "      <th>Sex</th>\n",
       "      <th>Age</th>\n",
       "      <th>SibSp</th>\n",
       "      <th>Parch</th>\n",
       "      <th>Ticket</th>\n",
       "      <th>Fare</th>\n",
       "      <th>Cabin</th>\n",
       "      <th>Embarked</th>\n",
       "    </tr>\n",
       "  </thead>\n",
       "  <tbody>\n",
       "    <tr>\n",
       "      <th>0</th>\n",
       "      <td>1</td>\n",
       "      <td>0</td>\n",
       "      <td>3</td>\n",
       "      <td>Braund, Mr. Owen Harris</td>\n",
       "      <td>male</td>\n",
       "      <td>22.0</td>\n",
       "      <td>1</td>\n",
       "      <td>0</td>\n",
       "      <td>A/5 21171</td>\n",
       "      <td>7.2500</td>\n",
       "      <td>NaN</td>\n",
       "      <td>S</td>\n",
       "    </tr>\n",
       "    <tr>\n",
       "      <th>1</th>\n",
       "      <td>2</td>\n",
       "      <td>1</td>\n",
       "      <td>1</td>\n",
       "      <td>Cumings, Mrs. John Bradley (Florence Briggs Th...</td>\n",
       "      <td>female</td>\n",
       "      <td>38.0</td>\n",
       "      <td>1</td>\n",
       "      <td>0</td>\n",
       "      <td>PC 17599</td>\n",
       "      <td>71.2833</td>\n",
       "      <td>C85</td>\n",
       "      <td>C</td>\n",
       "    </tr>\n",
       "    <tr>\n",
       "      <th>2</th>\n",
       "      <td>3</td>\n",
       "      <td>1</td>\n",
       "      <td>3</td>\n",
       "      <td>Heikkinen, Miss. Laina</td>\n",
       "      <td>female</td>\n",
       "      <td>26.0</td>\n",
       "      <td>0</td>\n",
       "      <td>0</td>\n",
       "      <td>STON/O2. 3101282</td>\n",
       "      <td>7.9250</td>\n",
       "      <td>NaN</td>\n",
       "      <td>S</td>\n",
       "    </tr>\n",
       "    <tr>\n",
       "      <th>3</th>\n",
       "      <td>4</td>\n",
       "      <td>1</td>\n",
       "      <td>1</td>\n",
       "      <td>Futrelle, Mrs. Jacques Heath (Lily May Peel)</td>\n",
       "      <td>female</td>\n",
       "      <td>35.0</td>\n",
       "      <td>1</td>\n",
       "      <td>0</td>\n",
       "      <td>113803</td>\n",
       "      <td>53.1000</td>\n",
       "      <td>C123</td>\n",
       "      <td>S</td>\n",
       "    </tr>\n",
       "    <tr>\n",
       "      <th>4</th>\n",
       "      <td>5</td>\n",
       "      <td>0</td>\n",
       "      <td>3</td>\n",
       "      <td>Allen, Mr. William Henry</td>\n",
       "      <td>male</td>\n",
       "      <td>35.0</td>\n",
       "      <td>0</td>\n",
       "      <td>0</td>\n",
       "      <td>373450</td>\n",
       "      <td>8.0500</td>\n",
       "      <td>NaN</td>\n",
       "      <td>S</td>\n",
       "    </tr>\n",
       "  </tbody>\n",
       "</table>\n",
       "</div>"
      ],
      "text/plain": [
       "   PassengerId  Survived  Pclass  ...     Fare Cabin  Embarked\n",
       "0            1         0       3  ...   7.2500   NaN         S\n",
       "1            2         1       1  ...  71.2833   C85         C\n",
       "2            3         1       3  ...   7.9250   NaN         S\n",
       "3            4         1       1  ...  53.1000  C123         S\n",
       "4            5         0       3  ...   8.0500   NaN         S\n",
       "\n",
       "[5 rows x 12 columns]"
      ]
     },
     "execution_count": 3,
     "metadata": {
      "tags": []
     },
     "output_type": "execute_result"
    }
   ],
   "source": [
    "data = pd.read_csv('titanic.csv')\n",
    "\n",
    "data.head()"
   ]
  },
  {
   "cell_type": "code",
   "execution_count": 0,
   "metadata": {
    "ExecuteTime": {
     "end_time": "2020-03-09T07:31:10.124902Z",
     "start_time": "2020-03-09T07:31:10.117873Z"
    },
    "colab": {
     "base_uri": "https://localhost:8080/",
     "height": 335
    },
    "colab_type": "code",
    "id": "2v6DMf5JkcCR",
    "outputId": "6a1e01db-b8ec-4804-b951-1e9f3e8a5430"
   },
   "outputs": [
    {
     "name": "stdout",
     "output_type": "stream",
     "text": [
      "<class 'pandas.core.frame.DataFrame'>\n",
      "RangeIndex: 891 entries, 0 to 890\n",
      "Data columns (total 12 columns):\n",
      " #   Column       Non-Null Count  Dtype  \n",
      "---  ------       --------------  -----  \n",
      " 0   PassengerId  891 non-null    int64  \n",
      " 1   Survived     891 non-null    int64  \n",
      " 2   Pclass       891 non-null    int64  \n",
      " 3   Name         891 non-null    object \n",
      " 4   Sex          891 non-null    object \n",
      " 5   Age          714 non-null    float64\n",
      " 6   SibSp        891 non-null    int64  \n",
      " 7   Parch        891 non-null    int64  \n",
      " 8   Ticket       891 non-null    object \n",
      " 9   Fare         891 non-null    float64\n",
      " 10  Cabin        204 non-null    object \n",
      " 11  Embarked     889 non-null    object \n",
      "dtypes: float64(2), int64(5), object(5)\n",
      "memory usage: 83.7+ KB\n"
     ]
    }
   ],
   "source": [
    "data.info()"
   ]
  },
  {
   "cell_type": "code",
   "execution_count": 0,
   "metadata": {
    "ExecuteTime": {
     "end_time": "2020-03-09T07:31:11.639431Z",
     "start_time": "2020-03-09T07:31:11.625391Z"
    },
    "colab": {
     "base_uri": "https://localhost:8080/",
     "height": 447
    },
    "colab_type": "code",
    "id": "4g7Y3xL_kcCZ",
    "outputId": "cb256268-25b0-4a95-bffc-d305efe7401f"
   },
   "outputs": [
    {
     "data": {
      "text/html": [
       "<div>\n",
       "<style scoped>\n",
       "    .dataframe tbody tr th:only-of-type {\n",
       "        vertical-align: middle;\n",
       "    }\n",
       "\n",
       "    .dataframe tbody tr th {\n",
       "        vertical-align: top;\n",
       "    }\n",
       "\n",
       "    .dataframe thead th {\n",
       "        text-align: right;\n",
       "    }\n",
       "</style>\n",
       "<table border=\"1\" class=\"dataframe\">\n",
       "  <thead>\n",
       "    <tr style=\"text-align: right;\">\n",
       "      <th></th>\n",
       "      <th>PassengerId</th>\n",
       "      <th>Survived</th>\n",
       "      <th>Pclass</th>\n",
       "      <th>Name</th>\n",
       "      <th>Sex</th>\n",
       "      <th>Age</th>\n",
       "      <th>SibSp</th>\n",
       "      <th>Parch</th>\n",
       "      <th>Ticket</th>\n",
       "      <th>Fare</th>\n",
       "      <th>Cabin</th>\n",
       "      <th>Embarked</th>\n",
       "    </tr>\n",
       "  </thead>\n",
       "  <tbody>\n",
       "    <tr>\n",
       "      <th>0</th>\n",
       "      <td>1</td>\n",
       "      <td>0</td>\n",
       "      <td>3</td>\n",
       "      <td>Braund, Mr. Owen Harris</td>\n",
       "      <td>male</td>\n",
       "      <td>22.0</td>\n",
       "      <td>1</td>\n",
       "      <td>0</td>\n",
       "      <td>A/5 21171</td>\n",
       "      <td>7.2500</td>\n",
       "      <td>NaN</td>\n",
       "      <td>S</td>\n",
       "    </tr>\n",
       "    <tr>\n",
       "      <th>1</th>\n",
       "      <td>2</td>\n",
       "      <td>1</td>\n",
       "      <td>1</td>\n",
       "      <td>Cumings, Mrs. John Bradley (Florence Briggs Th...</td>\n",
       "      <td>female</td>\n",
       "      <td>38.0</td>\n",
       "      <td>1</td>\n",
       "      <td>0</td>\n",
       "      <td>PC 17599</td>\n",
       "      <td>71.2833</td>\n",
       "      <td>C85</td>\n",
       "      <td>C</td>\n",
       "    </tr>\n",
       "    <tr>\n",
       "      <th>2</th>\n",
       "      <td>3</td>\n",
       "      <td>1</td>\n",
       "      <td>3</td>\n",
       "      <td>Heikkinen, Miss. Laina</td>\n",
       "      <td>female</td>\n",
       "      <td>26.0</td>\n",
       "      <td>0</td>\n",
       "      <td>0</td>\n",
       "      <td>STON/O2. 3101282</td>\n",
       "      <td>7.9250</td>\n",
       "      <td>NaN</td>\n",
       "      <td>S</td>\n",
       "    </tr>\n",
       "    <tr>\n",
       "      <th>3</th>\n",
       "      <td>4</td>\n",
       "      <td>1</td>\n",
       "      <td>1</td>\n",
       "      <td>Futrelle, Mrs. Jacques Heath (Lily May Peel)</td>\n",
       "      <td>female</td>\n",
       "      <td>35.0</td>\n",
       "      <td>1</td>\n",
       "      <td>0</td>\n",
       "      <td>113803</td>\n",
       "      <td>53.1000</td>\n",
       "      <td>C123</td>\n",
       "      <td>S</td>\n",
       "    </tr>\n",
       "    <tr>\n",
       "      <th>4</th>\n",
       "      <td>5</td>\n",
       "      <td>0</td>\n",
       "      <td>3</td>\n",
       "      <td>Allen, Mr. William Henry</td>\n",
       "      <td>male</td>\n",
       "      <td>35.0</td>\n",
       "      <td>0</td>\n",
       "      <td>0</td>\n",
       "      <td>373450</td>\n",
       "      <td>8.0500</td>\n",
       "      <td>NaN</td>\n",
       "      <td>S</td>\n",
       "    </tr>\n",
       "  </tbody>\n",
       "</table>\n",
       "</div>"
      ],
      "text/plain": [
       "   PassengerId  Survived  Pclass  ...     Fare Cabin  Embarked\n",
       "0            1         0       3  ...   7.2500   NaN         S\n",
       "1            2         1       1  ...  71.2833   C85         C\n",
       "2            3         1       3  ...   7.9250   NaN         S\n",
       "3            4         1       1  ...  53.1000  C123         S\n",
       "4            5         0       3  ...   8.0500   NaN         S\n",
       "\n",
       "[5 rows x 12 columns]"
      ]
     },
     "execution_count": 5,
     "metadata": {
      "tags": []
     },
     "output_type": "execute_result"
    }
   ],
   "source": [
    "data.head(5)"
   ]
  },
  {
   "cell_type": "code",
   "execution_count": 0,
   "metadata": {
    "ExecuteTime": {
     "end_time": "2020-03-09T07:31:14.669575Z",
     "start_time": "2020-03-09T07:31:14.655034Z"
    },
    "code_folding": [],
    "colab": {
     "base_uri": "https://localhost:8080/",
     "height": 721
    },
    "colab_type": "code",
    "id": "6o0rIuLZkcCd",
    "outputId": "b98453be-bb8d-445e-e133-c31316387d0f"
   },
   "outputs": [
    {
     "name": "stdout",
     "output_type": "stream",
     "text": [
      "PassengerId [ 1  2  3  4  5  6  7  8  9 10 11 12 13 14 15 16 17 18 19 20] \n",
      "\n",
      "Survived [0 1] \n",
      "\n",
      "Pclass [3 1 2] \n",
      "\n",
      "Name ['Braund, Mr. Owen Harris'\n",
      " 'Cumings, Mrs. John Bradley (Florence Briggs Thayer)'\n",
      " 'Heikkinen, Miss. Laina' 'Futrelle, Mrs. Jacques Heath (Lily May Peel)'\n",
      " 'Allen, Mr. William Henry' 'Moran, Mr. James' 'McCarthy, Mr. Timothy J'\n",
      " 'Palsson, Master. Gosta Leonard'\n",
      " 'Johnson, Mrs. Oscar W (Elisabeth Vilhelmina Berg)'\n",
      " 'Nasser, Mrs. Nicholas (Adele Achem)' 'Sandstrom, Miss. Marguerite Rut'\n",
      " 'Bonnell, Miss. Elizabeth' 'Saundercock, Mr. William Henry'\n",
      " 'Andersson, Mr. Anders Johan' 'Vestrom, Miss. Hulda Amanda Adolfina'\n",
      " 'Hewlett, Mrs. (Mary D Kingcome) ' 'Rice, Master. Eugene'\n",
      " 'Williams, Mr. Charles Eugene'\n",
      " 'Vander Planke, Mrs. Julius (Emelia Maria Vandemoortele)'\n",
      " 'Masselmani, Mrs. Fatima'] \n",
      "\n",
      "Sex ['male' 'female'] \n",
      "\n",
      "Age [22. 38. 26. 35. nan 54.  2. 27. 14.  4. 58. 20. 39. 55. 31. 34. 15. 28.\n",
      "  8. 19.] \n",
      "\n",
      "SibSp [1 0 3 4 2 5 8] \n",
      "\n",
      "Parch [0 1 2 5 3 4 6] \n",
      "\n",
      "Ticket ['A/5 21171' 'PC 17599' 'STON/O2. 3101282' '113803' '373450' '330877'\n",
      " '17463' '349909' '347742' '237736' 'PP 9549' '113783' 'A/5. 2151'\n",
      " '347082' '350406' '248706' '382652' '244373' '345763' '2649'] \n",
      "\n",
      "Fare [ 7.25   71.2833  7.925  53.1     8.05    8.4583 51.8625 21.075  11.1333\n",
      " 30.0708 16.7    26.55   31.275   7.8542 16.     29.125  13.     18.\n",
      "  7.225  26.    ] \n",
      "\n",
      "Cabin [nan 'C85' 'C123' 'E46' 'G6' 'C103' 'D56' 'A6' 'C23 C25 C27' 'B78' 'D33'\n",
      " 'B30' 'C52' 'B28' 'C83' 'F33' 'F G73' 'E31' 'A5' 'D10 D12'] \n",
      "\n",
      "Embarked ['S' 'C' 'Q' nan] \n",
      "\n"
     ]
    }
   ],
   "source": [
    "# let's inspect the variable values\n",
    "\n",
    "for var in data.columns:\n",
    "    print(var, data[var].unique()[0:20], '\\n')"
   ]
  },
  {
   "cell_type": "code",
   "execution_count": 0,
   "metadata": {
    "ExecuteTime": {
     "end_time": "2020-03-09T07:31:16.385338Z",
     "start_time": "2020-03-09T07:31:16.372305Z"
    },
    "colab": {
     "base_uri": "https://localhost:8080/",
     "height": 84
    },
    "colab_type": "code",
    "id": "LAayRs_lkcCh",
    "outputId": "279a1379-6fb0-4871-caba-9e9f8853fe02"
   },
   "outputs": [
    {
     "name": "stdout",
     "output_type": "stream",
     "text": [
      "There are 3 discrete variables\n",
      "There are 3 continuous variables\n",
      "There are 4 categorical variables\n",
      "There are 1 mixed variables\n"
     ]
    }
   ],
   "source": [
    "# make list of variables  types\n",
    "\n",
    "# numerical: discrete vs continuous\n",
    "discrete = [var for var in data.columns if data[var].dtype!='O' and var!='Survived' and data[var].nunique()<10]\n",
    "continuous = [var for var in data.columns if data[var].dtype!='O' and var!='Survived' and var not in discrete]\n",
    "\n",
    "# mixed\n",
    "mixed = ['Cabin']\n",
    "\n",
    "# categorical\n",
    "categorical = [var for var in data.columns if data[var].dtype=='O' and var not in mixed]\n",
    "\n",
    "print(f'There are {len(discrete)} discrete variables')\n",
    "print(f'There are {len(continuous)} continuous variables')\n",
    "print(f'There are {len(categorical)} categorical variables')\n",
    "print(f'There are {len(mixed)} mixed variables')"
   ]
  },
  {
   "cell_type": "code",
   "execution_count": 0,
   "metadata": {
    "ExecuteTime": {
     "end_time": "2020-03-09T07:31:19.229605Z",
     "start_time": "2020-03-09T07:31:19.220581Z"
    },
    "colab": {
     "base_uri": "https://localhost:8080/",
     "height": 235
    },
    "colab_type": "code",
    "id": "WV6ZSHHCkcCo",
    "outputId": "0f61907f-6d5e-41a0-c211-6f2849611d44"
   },
   "outputs": [
    {
     "data": {
      "text/plain": [
       "PassengerId    0.000000\n",
       "Survived       0.000000\n",
       "Pclass         0.000000\n",
       "Name           0.000000\n",
       "Sex            0.000000\n",
       "Age            0.198653\n",
       "SibSp          0.000000\n",
       "Parch          0.000000\n",
       "Ticket         0.000000\n",
       "Fare           0.000000\n",
       "Cabin          0.771044\n",
       "Embarked       0.002245\n",
       "dtype: float64"
      ]
     },
     "execution_count": 8,
     "metadata": {
      "tags": []
     },
     "output_type": "execute_result"
    }
   ],
   "source": [
    "# missing values\n",
    "data.isnull().mean()"
   ]
  },
  {
   "cell_type": "code",
   "execution_count": 0,
   "metadata": {
    "ExecuteTime": {
     "end_time": "2020-03-09T07:31:21.025926Z",
     "start_time": "2020-03-09T07:31:21.013893Z"
    },
    "colab": {
     "base_uri": "https://localhost:8080/",
     "height": 117
    },
    "colab_type": "code",
    "id": "R9kkzBHnkcCr",
    "outputId": "c5966ebe-52f4-476a-ab8b-9e637e4c7f5f"
   },
   "outputs": [
    {
     "data": {
      "text/plain": [
       "Name        891\n",
       "Sex           2\n",
       "Ticket      681\n",
       "Embarked      3\n",
       "Cabin       147\n",
       "dtype: int64"
      ]
     },
     "execution_count": 9,
     "metadata": {
      "tags": []
     },
     "output_type": "execute_result"
    }
   ],
   "source": [
    "# cardinality (number of different categories)\n",
    "\n",
    "data[categorical+mixed].nunique()"
   ]
  },
  {
   "cell_type": "code",
   "execution_count": 0,
   "metadata": {
    "ExecuteTime": {
     "end_time": "2020-03-09T07:31:22.655777Z",
     "start_time": "2020-03-09T07:31:22.628203Z"
    },
    "colab": {
     "base_uri": "https://localhost:8080/",
     "height": 484
    },
    "colab_type": "code",
    "id": "qGPLjpR0kcCu",
    "outputId": "48ad64ff-acf4-4e2f-a78b-032ec9b77301"
   },
   "outputs": [
    {
     "data": {
      "text/html": [
       "<div>\n",
       "<style scoped>\n",
       "    .dataframe tbody tr th:only-of-type {\n",
       "        vertical-align: middle;\n",
       "    }\n",
       "\n",
       "    .dataframe tbody tr th {\n",
       "        vertical-align: top;\n",
       "    }\n",
       "\n",
       "    .dataframe thead th {\n",
       "        text-align: right;\n",
       "    }\n",
       "</style>\n",
       "<table border=\"1\" class=\"dataframe\">\n",
       "  <thead>\n",
       "    <tr style=\"text-align: right;\">\n",
       "      <th></th>\n",
       "      <th>PassengerId</th>\n",
       "      <th>Survived</th>\n",
       "      <th>Pclass</th>\n",
       "      <th>Name</th>\n",
       "      <th>Sex</th>\n",
       "      <th>Age</th>\n",
       "      <th>SibSp</th>\n",
       "      <th>Parch</th>\n",
       "      <th>Ticket</th>\n",
       "      <th>Fare</th>\n",
       "      <th>Cabin</th>\n",
       "      <th>Embarked</th>\n",
       "      <th>Cabin_num</th>\n",
       "      <th>Cabin_cat</th>\n",
       "    </tr>\n",
       "  </thead>\n",
       "  <tbody>\n",
       "    <tr>\n",
       "      <th>0</th>\n",
       "      <td>1</td>\n",
       "      <td>0</td>\n",
       "      <td>3</td>\n",
       "      <td>Braund, Mr. Owen Harris</td>\n",
       "      <td>male</td>\n",
       "      <td>22.0</td>\n",
       "      <td>1</td>\n",
       "      <td>0</td>\n",
       "      <td>A/5 21171</td>\n",
       "      <td>7.2500</td>\n",
       "      <td>NaN</td>\n",
       "      <td>S</td>\n",
       "      <td>NaN</td>\n",
       "      <td>NaN</td>\n",
       "    </tr>\n",
       "    <tr>\n",
       "      <th>1</th>\n",
       "      <td>2</td>\n",
       "      <td>1</td>\n",
       "      <td>1</td>\n",
       "      <td>Cumings, Mrs. John Bradley (Florence Briggs Th...</td>\n",
       "      <td>female</td>\n",
       "      <td>38.0</td>\n",
       "      <td>1</td>\n",
       "      <td>0</td>\n",
       "      <td>PC 17599</td>\n",
       "      <td>71.2833</td>\n",
       "      <td>C85</td>\n",
       "      <td>C</td>\n",
       "      <td>85.0</td>\n",
       "      <td>C</td>\n",
       "    </tr>\n",
       "    <tr>\n",
       "      <th>2</th>\n",
       "      <td>3</td>\n",
       "      <td>1</td>\n",
       "      <td>3</td>\n",
       "      <td>Heikkinen, Miss. Laina</td>\n",
       "      <td>female</td>\n",
       "      <td>26.0</td>\n",
       "      <td>0</td>\n",
       "      <td>0</td>\n",
       "      <td>STON/O2. 3101282</td>\n",
       "      <td>7.9250</td>\n",
       "      <td>NaN</td>\n",
       "      <td>S</td>\n",
       "      <td>NaN</td>\n",
       "      <td>NaN</td>\n",
       "    </tr>\n",
       "    <tr>\n",
       "      <th>3</th>\n",
       "      <td>4</td>\n",
       "      <td>1</td>\n",
       "      <td>1</td>\n",
       "      <td>Futrelle, Mrs. Jacques Heath (Lily May Peel)</td>\n",
       "      <td>female</td>\n",
       "      <td>35.0</td>\n",
       "      <td>1</td>\n",
       "      <td>0</td>\n",
       "      <td>113803</td>\n",
       "      <td>53.1000</td>\n",
       "      <td>C123</td>\n",
       "      <td>S</td>\n",
       "      <td>123.0</td>\n",
       "      <td>C</td>\n",
       "    </tr>\n",
       "    <tr>\n",
       "      <th>4</th>\n",
       "      <td>5</td>\n",
       "      <td>0</td>\n",
       "      <td>3</td>\n",
       "      <td>Allen, Mr. William Henry</td>\n",
       "      <td>male</td>\n",
       "      <td>35.0</td>\n",
       "      <td>0</td>\n",
       "      <td>0</td>\n",
       "      <td>373450</td>\n",
       "      <td>8.0500</td>\n",
       "      <td>NaN</td>\n",
       "      <td>S</td>\n",
       "      <td>NaN</td>\n",
       "      <td>NaN</td>\n",
       "    </tr>\n",
       "  </tbody>\n",
       "</table>\n",
       "</div>"
      ],
      "text/plain": [
       "   PassengerId  Survived  Pclass  ... Embarked Cabin_num  Cabin_cat\n",
       "0            1         0       3  ...        S       NaN        NaN\n",
       "1            2         1       1  ...        C      85.0          C\n",
       "2            3         1       3  ...        S       NaN        NaN\n",
       "3            4         1       1  ...        S     123.0          C\n",
       "4            5         0       3  ...        S       NaN        NaN\n",
       "\n",
       "[5 rows x 14 columns]"
      ]
     },
     "execution_count": 10,
     "metadata": {
      "tags": []
     },
     "output_type": "execute_result"
    }
   ],
   "source": [
    "# Cabin- mixed variable\n",
    "# \\d regular expression for digts . \\d+ one or more digits\n",
    "data['Cabin_num'] = data['Cabin'].str.extract('(\\d+)') # captures numerical part\n",
    "data['Cabin_num'] = data['Cabin_num'].astype('float')\n",
    "data['Cabin_cat'] = data['Cabin'].str[0] # captures the first letter\n",
    "\n",
    "# show dataframe\n",
    "data.head()"
   ]
  },
  {
   "cell_type": "code",
   "execution_count": 0,
   "metadata": {
    "ExecuteTime": {
     "end_time": "2020-03-09T07:31:24.271498Z",
     "start_time": "2020-03-09T07:31:24.238908Z"
    },
    "colab": {
     "base_uri": "https://localhost:8080/",
     "height": 484
    },
    "colab_type": "code",
    "id": "P2eC9lP-kcCz",
    "outputId": "9f336103-a932-411f-abd6-5d85192b4e20"
   },
   "outputs": [
    {
     "data": {
      "text/html": [
       "<div>\n",
       "<style scoped>\n",
       "    .dataframe tbody tr th:only-of-type {\n",
       "        vertical-align: middle;\n",
       "    }\n",
       "\n",
       "    .dataframe tbody tr th {\n",
       "        vertical-align: top;\n",
       "    }\n",
       "\n",
       "    .dataframe thead th {\n",
       "        text-align: right;\n",
       "    }\n",
       "</style>\n",
       "<table border=\"1\" class=\"dataframe\">\n",
       "  <thead>\n",
       "    <tr style=\"text-align: right;\">\n",
       "      <th></th>\n",
       "      <th>PassengerId</th>\n",
       "      <th>Survived</th>\n",
       "      <th>Pclass</th>\n",
       "      <th>Name</th>\n",
       "      <th>Sex</th>\n",
       "      <th>Age</th>\n",
       "      <th>SibSp</th>\n",
       "      <th>Parch</th>\n",
       "      <th>Ticket</th>\n",
       "      <th>Fare</th>\n",
       "      <th>Cabin</th>\n",
       "      <th>Embarked</th>\n",
       "      <th>Cabin_num</th>\n",
       "      <th>Cabin_cat</th>\n",
       "      <th>Title</th>\n",
       "    </tr>\n",
       "  </thead>\n",
       "  <tbody>\n",
       "    <tr>\n",
       "      <th>0</th>\n",
       "      <td>1</td>\n",
       "      <td>0</td>\n",
       "      <td>3</td>\n",
       "      <td>Braund, Mr. Owen Harris</td>\n",
       "      <td>male</td>\n",
       "      <td>22.0</td>\n",
       "      <td>1</td>\n",
       "      <td>0</td>\n",
       "      <td>A/5 21171</td>\n",
       "      <td>7.2500</td>\n",
       "      <td>NaN</td>\n",
       "      <td>S</td>\n",
       "      <td>NaN</td>\n",
       "      <td>NaN</td>\n",
       "      <td>Mr.</td>\n",
       "    </tr>\n",
       "    <tr>\n",
       "      <th>1</th>\n",
       "      <td>2</td>\n",
       "      <td>1</td>\n",
       "      <td>1</td>\n",
       "      <td>Cumings, Mrs. John Bradley (Florence Briggs Th...</td>\n",
       "      <td>female</td>\n",
       "      <td>38.0</td>\n",
       "      <td>1</td>\n",
       "      <td>0</td>\n",
       "      <td>PC 17599</td>\n",
       "      <td>71.2833</td>\n",
       "      <td>C85</td>\n",
       "      <td>C</td>\n",
       "      <td>85.0</td>\n",
       "      <td>C</td>\n",
       "      <td>Mrs.</td>\n",
       "    </tr>\n",
       "    <tr>\n",
       "      <th>2</th>\n",
       "      <td>3</td>\n",
       "      <td>1</td>\n",
       "      <td>3</td>\n",
       "      <td>Heikkinen, Miss. Laina</td>\n",
       "      <td>female</td>\n",
       "      <td>26.0</td>\n",
       "      <td>0</td>\n",
       "      <td>0</td>\n",
       "      <td>STON/O2. 3101282</td>\n",
       "      <td>7.9250</td>\n",
       "      <td>NaN</td>\n",
       "      <td>S</td>\n",
       "      <td>NaN</td>\n",
       "      <td>NaN</td>\n",
       "      <td>Miss.</td>\n",
       "    </tr>\n",
       "    <tr>\n",
       "      <th>3</th>\n",
       "      <td>4</td>\n",
       "      <td>1</td>\n",
       "      <td>1</td>\n",
       "      <td>Futrelle, Mrs. Jacques Heath (Lily May Peel)</td>\n",
       "      <td>female</td>\n",
       "      <td>35.0</td>\n",
       "      <td>1</td>\n",
       "      <td>0</td>\n",
       "      <td>113803</td>\n",
       "      <td>53.1000</td>\n",
       "      <td>C123</td>\n",
       "      <td>S</td>\n",
       "      <td>123.0</td>\n",
       "      <td>C</td>\n",
       "      <td>Mrs.</td>\n",
       "    </tr>\n",
       "    <tr>\n",
       "      <th>4</th>\n",
       "      <td>5</td>\n",
       "      <td>0</td>\n",
       "      <td>3</td>\n",
       "      <td>Allen, Mr. William Henry</td>\n",
       "      <td>male</td>\n",
       "      <td>35.0</td>\n",
       "      <td>0</td>\n",
       "      <td>0</td>\n",
       "      <td>373450</td>\n",
       "      <td>8.0500</td>\n",
       "      <td>NaN</td>\n",
       "      <td>S</td>\n",
       "      <td>NaN</td>\n",
       "      <td>NaN</td>\n",
       "      <td>Mr.</td>\n",
       "    </tr>\n",
       "  </tbody>\n",
       "</table>\n",
       "</div>"
      ],
      "text/plain": [
       "   PassengerId  Survived  Pclass  ... Cabin_num Cabin_cat  Title\n",
       "0            1         0       3  ...       NaN       NaN    Mr.\n",
       "1            2         1       1  ...      85.0         C   Mrs.\n",
       "2            3         1       3  ...       NaN       NaN  Miss.\n",
       "3            4         1       1  ...     123.0         C   Mrs.\n",
       "4            5         0       3  ...       NaN       NaN    Mr.\n",
       "\n",
       "[5 rows x 15 columns]"
      ]
     },
     "execution_count": 11,
     "metadata": {
      "tags": []
     },
     "output_type": "execute_result"
    }
   ],
   "source": [
    "data['Title'] = data['Name'].str.split(',').str[1].str.split('\\s+').str[1]\n",
    "data.head()"
   ]
  },
  {
   "cell_type": "code",
   "execution_count": 0,
   "metadata": {
    "ExecuteTime": {
     "end_time": "2020-03-09T07:31:28.967195Z",
     "start_time": "2020-03-09T07:31:28.956166Z"
    },
    "colab": {
     "base_uri": "https://localhost:8080/",
     "height": 319
    },
    "colab_type": "code",
    "id": "fgXkpToskcC8",
    "outputId": "da6ea652-a38f-4bab-9327-654846c0b921"
   },
   "outputs": [
    {
     "data": {
      "text/plain": [
       "Mr.          517\n",
       "Miss.        182\n",
       "Mrs.         125\n",
       "Master.       40\n",
       "Dr.            7\n",
       "Rev.           6\n",
       "Col.           2\n",
       "Major.         2\n",
       "Mlle.          2\n",
       "Sir.           1\n",
       "the            1\n",
       "Lady.          1\n",
       "Mme.           1\n",
       "Ms.            1\n",
       "Capt.          1\n",
       "Jonkheer.      1\n",
       "Don.           1\n",
       "Name: Title, dtype: int64"
      ]
     },
     "execution_count": 12,
     "metadata": {
      "tags": []
     },
     "output_type": "execute_result"
    }
   ],
   "source": [
    "data['Title'].value_counts()"
   ]
  },
  {
   "cell_type": "code",
   "execution_count": 0,
   "metadata": {
    "ExecuteTime": {
     "end_time": "2020-03-09T07:31:31.253019Z",
     "start_time": "2020-03-09T07:31:31.245000Z"
    },
    "colab": {
     "base_uri": "https://localhost:8080/",
     "height": 168
    },
    "colab_type": "code",
    "id": "rBDov1AGkcC_",
    "outputId": "404da807-792a-49ed-bf54-df002115d07f"
   },
   "outputs": [
    {
     "data": {
      "text/plain": [
       "C    59\n",
       "B    47\n",
       "D    33\n",
       "E    32\n",
       "A    15\n",
       "F    13\n",
       "G     4\n",
       "T     1\n",
       "Name: Cabin_cat, dtype: int64"
      ]
     },
     "execution_count": 13,
     "metadata": {
      "tags": []
     },
     "output_type": "execute_result"
    }
   ],
   "source": [
    "data['Cabin_cat'].value_counts()"
   ]
  },
  {
   "cell_type": "code",
   "execution_count": 0,
   "metadata": {
    "ExecuteTime": {
     "end_time": "2020-03-09T07:31:33.394776Z",
     "start_time": "2020-03-09T07:31:33.373716Z"
    },
    "colab": {
     "base_uri": "https://localhost:8080/",
     "height": 484
    },
    "colab_type": "code",
    "id": "Tiv2EqlZkcDC",
    "outputId": "11b2bf8a-4e03-4e99-dcb9-d3fc8f282f3b"
   },
   "outputs": [
    {
     "data": {
      "text/html": [
       "<div>\n",
       "<style scoped>\n",
       "    .dataframe tbody tr th:only-of-type {\n",
       "        vertical-align: middle;\n",
       "    }\n",
       "\n",
       "    .dataframe tbody tr th {\n",
       "        vertical-align: top;\n",
       "    }\n",
       "\n",
       "    .dataframe thead th {\n",
       "        text-align: right;\n",
       "    }\n",
       "</style>\n",
       "<table border=\"1\" class=\"dataframe\">\n",
       "  <thead>\n",
       "    <tr style=\"text-align: right;\">\n",
       "      <th></th>\n",
       "      <th>PassengerId</th>\n",
       "      <th>Survived</th>\n",
       "      <th>Pclass</th>\n",
       "      <th>Name</th>\n",
       "      <th>Sex</th>\n",
       "      <th>Age</th>\n",
       "      <th>SibSp</th>\n",
       "      <th>Parch</th>\n",
       "      <th>Ticket</th>\n",
       "      <th>Fare</th>\n",
       "      <th>Cabin</th>\n",
       "      <th>Embarked</th>\n",
       "      <th>Cabin_num</th>\n",
       "      <th>Cabin_cat</th>\n",
       "      <th>Title</th>\n",
       "    </tr>\n",
       "  </thead>\n",
       "  <tbody>\n",
       "    <tr>\n",
       "      <th>0</th>\n",
       "      <td>1</td>\n",
       "      <td>0</td>\n",
       "      <td>3</td>\n",
       "      <td>Braund, Mr. Owen Harris</td>\n",
       "      <td>male</td>\n",
       "      <td>22.0</td>\n",
       "      <td>1</td>\n",
       "      <td>0</td>\n",
       "      <td>A/5 21171</td>\n",
       "      <td>7.2500</td>\n",
       "      <td>NaN</td>\n",
       "      <td>S</td>\n",
       "      <td>NaN</td>\n",
       "      <td>NaN</td>\n",
       "      <td>Mr.</td>\n",
       "    </tr>\n",
       "    <tr>\n",
       "      <th>1</th>\n",
       "      <td>2</td>\n",
       "      <td>1</td>\n",
       "      <td>1</td>\n",
       "      <td>Cumings, Mrs. John Bradley (Florence Briggs Th...</td>\n",
       "      <td>female</td>\n",
       "      <td>38.0</td>\n",
       "      <td>1</td>\n",
       "      <td>0</td>\n",
       "      <td>PC 17599</td>\n",
       "      <td>71.2833</td>\n",
       "      <td>C85</td>\n",
       "      <td>C</td>\n",
       "      <td>85.0</td>\n",
       "      <td>C</td>\n",
       "      <td>Mrs.</td>\n",
       "    </tr>\n",
       "    <tr>\n",
       "      <th>2</th>\n",
       "      <td>3</td>\n",
       "      <td>1</td>\n",
       "      <td>3</td>\n",
       "      <td>Heikkinen, Miss. Laina</td>\n",
       "      <td>female</td>\n",
       "      <td>26.0</td>\n",
       "      <td>0</td>\n",
       "      <td>0</td>\n",
       "      <td>STON/O2. 3101282</td>\n",
       "      <td>7.9250</td>\n",
       "      <td>NaN</td>\n",
       "      <td>S</td>\n",
       "      <td>NaN</td>\n",
       "      <td>NaN</td>\n",
       "      <td>Miss.</td>\n",
       "    </tr>\n",
       "    <tr>\n",
       "      <th>3</th>\n",
       "      <td>4</td>\n",
       "      <td>1</td>\n",
       "      <td>1</td>\n",
       "      <td>Futrelle, Mrs. Jacques Heath (Lily May Peel)</td>\n",
       "      <td>female</td>\n",
       "      <td>35.0</td>\n",
       "      <td>1</td>\n",
       "      <td>0</td>\n",
       "      <td>113803</td>\n",
       "      <td>53.1000</td>\n",
       "      <td>C123</td>\n",
       "      <td>S</td>\n",
       "      <td>123.0</td>\n",
       "      <td>C</td>\n",
       "      <td>Mrs.</td>\n",
       "    </tr>\n",
       "    <tr>\n",
       "      <th>4</th>\n",
       "      <td>5</td>\n",
       "      <td>0</td>\n",
       "      <td>3</td>\n",
       "      <td>Allen, Mr. William Henry</td>\n",
       "      <td>male</td>\n",
       "      <td>35.0</td>\n",
       "      <td>0</td>\n",
       "      <td>0</td>\n",
       "      <td>373450</td>\n",
       "      <td>8.0500</td>\n",
       "      <td>NaN</td>\n",
       "      <td>S</td>\n",
       "      <td>NaN</td>\n",
       "      <td>NaN</td>\n",
       "      <td>Mr.</td>\n",
       "    </tr>\n",
       "  </tbody>\n",
       "</table>\n",
       "</div>"
      ],
      "text/plain": [
       "   PassengerId  Survived  Pclass  ... Cabin_num Cabin_cat  Title\n",
       "0            1         0       3  ...       NaN       NaN    Mr.\n",
       "1            2         1       1  ...      85.0         C   Mrs.\n",
       "2            3         1       3  ...       NaN       NaN  Miss.\n",
       "3            4         1       1  ...     123.0         C   Mrs.\n",
       "4            5         0       3  ...       NaN       NaN    Mr.\n",
       "\n",
       "[5 rows x 15 columns]"
      ]
     },
     "execution_count": 14,
     "metadata": {
      "tags": []
     },
     "output_type": "execute_result"
    }
   ],
   "source": [
    "# drop original mixed\n",
    "data.head()"
   ]
  },
  {
   "cell_type": "code",
   "execution_count": 0,
   "metadata": {
    "ExecuteTime": {
     "end_time": "2020-03-09T07:31:37.790503Z",
     "start_time": "2020-03-09T07:31:37.782478Z"
    },
    "colab": {},
    "colab_type": "code",
    "id": "4WABwLTokcDH"
   },
   "outputs": [],
   "source": [
    "data.drop(['PassengerId','Name','Ticket','Cabin'], axis=1,inplace=True)"
   ]
  },
  {
   "cell_type": "code",
   "execution_count": 0,
   "metadata": {
    "ExecuteTime": {
     "end_time": "2020-03-09T07:31:38.924192Z",
     "start_time": "2020-03-09T07:31:38.909150Z"
    },
    "colab": {
     "base_uri": "https://localhost:8080/",
     "height": 195
    },
    "colab_type": "code",
    "id": "Y0GuCL0-kcDL",
    "outputId": "f36a4d7b-ab89-4cc5-9502-335559123c66"
   },
   "outputs": [
    {
     "data": {
      "text/html": [
       "<div>\n",
       "<style scoped>\n",
       "    .dataframe tbody tr th:only-of-type {\n",
       "        vertical-align: middle;\n",
       "    }\n",
       "\n",
       "    .dataframe tbody tr th {\n",
       "        vertical-align: top;\n",
       "    }\n",
       "\n",
       "    .dataframe thead th {\n",
       "        text-align: right;\n",
       "    }\n",
       "</style>\n",
       "<table border=\"1\" class=\"dataframe\">\n",
       "  <thead>\n",
       "    <tr style=\"text-align: right;\">\n",
       "      <th></th>\n",
       "      <th>Survived</th>\n",
       "      <th>Pclass</th>\n",
       "      <th>Sex</th>\n",
       "      <th>Age</th>\n",
       "      <th>SibSp</th>\n",
       "      <th>Parch</th>\n",
       "      <th>Fare</th>\n",
       "      <th>Embarked</th>\n",
       "      <th>Cabin_num</th>\n",
       "      <th>Cabin_cat</th>\n",
       "      <th>Title</th>\n",
       "    </tr>\n",
       "  </thead>\n",
       "  <tbody>\n",
       "    <tr>\n",
       "      <th>0</th>\n",
       "      <td>0</td>\n",
       "      <td>3</td>\n",
       "      <td>male</td>\n",
       "      <td>22.0</td>\n",
       "      <td>1</td>\n",
       "      <td>0</td>\n",
       "      <td>7.2500</td>\n",
       "      <td>S</td>\n",
       "      <td>NaN</td>\n",
       "      <td>NaN</td>\n",
       "      <td>Mr.</td>\n",
       "    </tr>\n",
       "    <tr>\n",
       "      <th>1</th>\n",
       "      <td>1</td>\n",
       "      <td>1</td>\n",
       "      <td>female</td>\n",
       "      <td>38.0</td>\n",
       "      <td>1</td>\n",
       "      <td>0</td>\n",
       "      <td>71.2833</td>\n",
       "      <td>C</td>\n",
       "      <td>85.0</td>\n",
       "      <td>C</td>\n",
       "      <td>Mrs.</td>\n",
       "    </tr>\n",
       "    <tr>\n",
       "      <th>2</th>\n",
       "      <td>1</td>\n",
       "      <td>3</td>\n",
       "      <td>female</td>\n",
       "      <td>26.0</td>\n",
       "      <td>0</td>\n",
       "      <td>0</td>\n",
       "      <td>7.9250</td>\n",
       "      <td>S</td>\n",
       "      <td>NaN</td>\n",
       "      <td>NaN</td>\n",
       "      <td>Miss.</td>\n",
       "    </tr>\n",
       "    <tr>\n",
       "      <th>3</th>\n",
       "      <td>1</td>\n",
       "      <td>1</td>\n",
       "      <td>female</td>\n",
       "      <td>35.0</td>\n",
       "      <td>1</td>\n",
       "      <td>0</td>\n",
       "      <td>53.1000</td>\n",
       "      <td>S</td>\n",
       "      <td>123.0</td>\n",
       "      <td>C</td>\n",
       "      <td>Mrs.</td>\n",
       "    </tr>\n",
       "    <tr>\n",
       "      <th>4</th>\n",
       "      <td>0</td>\n",
       "      <td>3</td>\n",
       "      <td>male</td>\n",
       "      <td>35.0</td>\n",
       "      <td>0</td>\n",
       "      <td>0</td>\n",
       "      <td>8.0500</td>\n",
       "      <td>S</td>\n",
       "      <td>NaN</td>\n",
       "      <td>NaN</td>\n",
       "      <td>Mr.</td>\n",
       "    </tr>\n",
       "  </tbody>\n",
       "</table>\n",
       "</div>"
      ],
      "text/plain": [
       "   Survived  Pclass     Sex   Age  ...  Embarked  Cabin_num  Cabin_cat  Title\n",
       "0         0       3    male  22.0  ...         S        NaN        NaN    Mr.\n",
       "1         1       1  female  38.0  ...         C       85.0          C   Mrs.\n",
       "2         1       3  female  26.0  ...         S        NaN        NaN  Miss.\n",
       "3         1       1  female  35.0  ...         S      123.0          C   Mrs.\n",
       "4         0       3    male  35.0  ...         S        NaN        NaN    Mr.\n",
       "\n",
       "[5 rows x 11 columns]"
      ]
     },
     "execution_count": 16,
     "metadata": {
      "tags": []
     },
     "output_type": "execute_result"
    }
   ],
   "source": [
    "data.head()"
   ]
  },
  {
   "cell_type": "code",
   "execution_count": 0,
   "metadata": {
    "ExecuteTime": {
     "end_time": "2020-03-09T07:31:41.011048Z",
     "start_time": "2020-03-09T07:31:40.972941Z"
    },
    "colab": {
     "base_uri": "https://localhost:8080/",
     "height": 284
    },
    "colab_type": "code",
    "id": "-XH4OcL3kcDO",
    "outputId": "b6975b9d-4ce9-46a9-fddc-e4d1ac716e19"
   },
   "outputs": [
    {
     "data": {
      "text/html": [
       "<div>\n",
       "<style scoped>\n",
       "    .dataframe tbody tr th:only-of-type {\n",
       "        vertical-align: middle;\n",
       "    }\n",
       "\n",
       "    .dataframe tbody tr th {\n",
       "        vertical-align: top;\n",
       "    }\n",
       "\n",
       "    .dataframe thead th {\n",
       "        text-align: right;\n",
       "    }\n",
       "</style>\n",
       "<table border=\"1\" class=\"dataframe\">\n",
       "  <thead>\n",
       "    <tr style=\"text-align: right;\">\n",
       "      <th></th>\n",
       "      <th>Survived</th>\n",
       "      <th>Pclass</th>\n",
       "      <th>Age</th>\n",
       "      <th>SibSp</th>\n",
       "      <th>Parch</th>\n",
       "      <th>Fare</th>\n",
       "      <th>Cabin_num</th>\n",
       "    </tr>\n",
       "  </thead>\n",
       "  <tbody>\n",
       "    <tr>\n",
       "      <th>count</th>\n",
       "      <td>891.000000</td>\n",
       "      <td>891.000000</td>\n",
       "      <td>714.000000</td>\n",
       "      <td>891.000000</td>\n",
       "      <td>891.000000</td>\n",
       "      <td>891.000000</td>\n",
       "      <td>200.00000</td>\n",
       "    </tr>\n",
       "    <tr>\n",
       "      <th>mean</th>\n",
       "      <td>0.383838</td>\n",
       "      <td>2.308642</td>\n",
       "      <td>29.699118</td>\n",
       "      <td>0.523008</td>\n",
       "      <td>0.381594</td>\n",
       "      <td>32.204208</td>\n",
       "      <td>50.49000</td>\n",
       "    </tr>\n",
       "    <tr>\n",
       "      <th>std</th>\n",
       "      <td>0.486592</td>\n",
       "      <td>0.836071</td>\n",
       "      <td>14.526497</td>\n",
       "      <td>1.102743</td>\n",
       "      <td>0.806057</td>\n",
       "      <td>49.693429</td>\n",
       "      <td>35.39497</td>\n",
       "    </tr>\n",
       "    <tr>\n",
       "      <th>min</th>\n",
       "      <td>0.000000</td>\n",
       "      <td>1.000000</td>\n",
       "      <td>0.420000</td>\n",
       "      <td>0.000000</td>\n",
       "      <td>0.000000</td>\n",
       "      <td>0.000000</td>\n",
       "      <td>2.00000</td>\n",
       "    </tr>\n",
       "    <tr>\n",
       "      <th>25%</th>\n",
       "      <td>0.000000</td>\n",
       "      <td>2.000000</td>\n",
       "      <td>20.125000</td>\n",
       "      <td>0.000000</td>\n",
       "      <td>0.000000</td>\n",
       "      <td>7.910400</td>\n",
       "      <td>22.00000</td>\n",
       "    </tr>\n",
       "    <tr>\n",
       "      <th>50%</th>\n",
       "      <td>0.000000</td>\n",
       "      <td>3.000000</td>\n",
       "      <td>28.000000</td>\n",
       "      <td>0.000000</td>\n",
       "      <td>0.000000</td>\n",
       "      <td>14.454200</td>\n",
       "      <td>43.00000</td>\n",
       "    </tr>\n",
       "    <tr>\n",
       "      <th>75%</th>\n",
       "      <td>1.000000</td>\n",
       "      <td>3.000000</td>\n",
       "      <td>38.000000</td>\n",
       "      <td>1.000000</td>\n",
       "      <td>0.000000</td>\n",
       "      <td>31.000000</td>\n",
       "      <td>77.25000</td>\n",
       "    </tr>\n",
       "    <tr>\n",
       "      <th>max</th>\n",
       "      <td>1.000000</td>\n",
       "      <td>3.000000</td>\n",
       "      <td>80.000000</td>\n",
       "      <td>8.000000</td>\n",
       "      <td>6.000000</td>\n",
       "      <td>512.329200</td>\n",
       "      <td>148.00000</td>\n",
       "    </tr>\n",
       "  </tbody>\n",
       "</table>\n",
       "</div>"
      ],
      "text/plain": [
       "         Survived      Pclass         Age  ...       Parch        Fare  Cabin_num\n",
       "count  891.000000  891.000000  714.000000  ...  891.000000  891.000000  200.00000\n",
       "mean     0.383838    2.308642   29.699118  ...    0.381594   32.204208   50.49000\n",
       "std      0.486592    0.836071   14.526497  ...    0.806057   49.693429   35.39497\n",
       "min      0.000000    1.000000    0.420000  ...    0.000000    0.000000    2.00000\n",
       "25%      0.000000    2.000000   20.125000  ...    0.000000    7.910400   22.00000\n",
       "50%      0.000000    3.000000   28.000000  ...    0.000000   14.454200   43.00000\n",
       "75%      1.000000    3.000000   38.000000  ...    0.000000   31.000000   77.25000\n",
       "max      1.000000    3.000000   80.000000  ...    6.000000  512.329200  148.00000\n",
       "\n",
       "[8 rows x 7 columns]"
      ]
     },
     "execution_count": 17,
     "metadata": {
      "tags": []
     },
     "output_type": "execute_result"
    }
   ],
   "source": [
    "data.describe()"
   ]
  },
  {
   "cell_type": "code",
   "execution_count": 0,
   "metadata": {
    "ExecuteTime": {
     "end_time": "2020-03-09T07:31:43.601228Z",
     "start_time": "2020-03-09T07:31:43.589194Z"
    },
    "colab": {
     "base_uri": "https://localhost:8080/",
     "height": 33
    },
    "colab_type": "code",
    "id": "myubzXYykcDS",
    "outputId": "5d00e15a-9ef5-474b-bd65-ffa491d880a9"
   },
   "outputs": [
    {
     "data": {
      "text/plain": [
       "((801, 10), (90, 10))"
      ]
     },
     "execution_count": 18,
     "metadata": {
      "tags": []
     },
     "output_type": "execute_result"
    }
   ],
   "source": [
    "# separate into training and testing set\n",
    "from sklearn.model_selection import train_test_split\n",
    "X_train, X_test, y_train, y_test = train_test_split(\n",
    "    data.drop('Survived', axis=1),  # predictors\n",
    "    data['Survived'],  # target\n",
    "    test_size=0.1,  # percentage of obs in test set\n",
    "    random_state=0)  # seed to ensure reproducibility\n",
    "\n",
    "X_train.shape, X_test.shape"
   ]
  },
  {
   "cell_type": "code",
   "execution_count": 0,
   "metadata": {
    "ExecuteTime": {
     "end_time": "2020-03-09T07:31:45.210365Z",
     "start_time": "2020-03-09T07:31:45.194323Z"
    },
    "colab": {
     "base_uri": "https://localhost:8080/",
     "height": 195
    },
    "colab_type": "code",
    "id": "Bm7fMnwjkcDV",
    "outputId": "f4194b1a-699f-430e-e0cf-7d6243521f65"
   },
   "outputs": [
    {
     "data": {
      "text/html": [
       "<div>\n",
       "<style scoped>\n",
       "    .dataframe tbody tr th:only-of-type {\n",
       "        vertical-align: middle;\n",
       "    }\n",
       "\n",
       "    .dataframe tbody tr th {\n",
       "        vertical-align: top;\n",
       "    }\n",
       "\n",
       "    .dataframe thead th {\n",
       "        text-align: right;\n",
       "    }\n",
       "</style>\n",
       "<table border=\"1\" class=\"dataframe\">\n",
       "  <thead>\n",
       "    <tr style=\"text-align: right;\">\n",
       "      <th></th>\n",
       "      <th>Pclass</th>\n",
       "      <th>Sex</th>\n",
       "      <th>Age</th>\n",
       "      <th>SibSp</th>\n",
       "      <th>Parch</th>\n",
       "      <th>Fare</th>\n",
       "      <th>Embarked</th>\n",
       "      <th>Cabin_num</th>\n",
       "      <th>Cabin_cat</th>\n",
       "      <th>Title</th>\n",
       "    </tr>\n",
       "  </thead>\n",
       "  <tbody>\n",
       "    <tr>\n",
       "      <th>815</th>\n",
       "      <td>1</td>\n",
       "      <td>male</td>\n",
       "      <td>NaN</td>\n",
       "      <td>0</td>\n",
       "      <td>0</td>\n",
       "      <td>0.0000</td>\n",
       "      <td>S</td>\n",
       "      <td>102.0</td>\n",
       "      <td>B</td>\n",
       "      <td>Mr.</td>\n",
       "    </tr>\n",
       "    <tr>\n",
       "      <th>877</th>\n",
       "      <td>3</td>\n",
       "      <td>male</td>\n",
       "      <td>19.0</td>\n",
       "      <td>0</td>\n",
       "      <td>0</td>\n",
       "      <td>7.8958</td>\n",
       "      <td>S</td>\n",
       "      <td>NaN</td>\n",
       "      <td>NaN</td>\n",
       "      <td>Mr.</td>\n",
       "    </tr>\n",
       "    <tr>\n",
       "      <th>193</th>\n",
       "      <td>2</td>\n",
       "      <td>male</td>\n",
       "      <td>3.0</td>\n",
       "      <td>1</td>\n",
       "      <td>1</td>\n",
       "      <td>26.0000</td>\n",
       "      <td>S</td>\n",
       "      <td>2.0</td>\n",
       "      <td>F</td>\n",
       "      <td>Master.</td>\n",
       "    </tr>\n",
       "    <tr>\n",
       "      <th>523</th>\n",
       "      <td>1</td>\n",
       "      <td>female</td>\n",
       "      <td>44.0</td>\n",
       "      <td>0</td>\n",
       "      <td>1</td>\n",
       "      <td>57.9792</td>\n",
       "      <td>C</td>\n",
       "      <td>18.0</td>\n",
       "      <td>B</td>\n",
       "      <td>Mrs.</td>\n",
       "    </tr>\n",
       "    <tr>\n",
       "      <th>634</th>\n",
       "      <td>3</td>\n",
       "      <td>female</td>\n",
       "      <td>9.0</td>\n",
       "      <td>3</td>\n",
       "      <td>2</td>\n",
       "      <td>27.9000</td>\n",
       "      <td>S</td>\n",
       "      <td>NaN</td>\n",
       "      <td>NaN</td>\n",
       "      <td>Miss.</td>\n",
       "    </tr>\n",
       "  </tbody>\n",
       "</table>\n",
       "</div>"
      ],
      "text/plain": [
       "     Pclass     Sex   Age  SibSp  ...  Embarked  Cabin_num Cabin_cat    Title\n",
       "815       1    male   NaN      0  ...         S      102.0         B      Mr.\n",
       "877       3    male  19.0      0  ...         S        NaN       NaN      Mr.\n",
       "193       2    male   3.0      1  ...         S        2.0         F  Master.\n",
       "523       1  female  44.0      0  ...         C       18.0         B     Mrs.\n",
       "634       3  female   9.0      3  ...         S        NaN       NaN    Miss.\n",
       "\n",
       "[5 rows x 10 columns]"
      ]
     },
     "execution_count": 19,
     "metadata": {
      "tags": []
     },
     "output_type": "execute_result"
    }
   ],
   "source": [
    "X_train.head()"
   ]
  },
  {
   "cell_type": "code",
   "execution_count": 0,
   "metadata": {
    "ExecuteTime": {
     "end_time": "2020-03-09T07:31:46.822094Z",
     "start_time": "2020-03-09T07:31:46.814072Z"
    },
    "colab": {
     "base_uri": "https://localhost:8080/",
     "height": 302
    },
    "colab_type": "code",
    "id": "_Adyp33xkcDZ",
    "outputId": "e3f1ffc5-0096-4c12-b29f-237343797d7c"
   },
   "outputs": [
    {
     "name": "stdout",
     "output_type": "stream",
     "text": [
      "<class 'pandas.core.frame.DataFrame'>\n",
      "Int64Index: 801 entries, 815 to 684\n",
      "Data columns (total 10 columns):\n",
      " #   Column     Non-Null Count  Dtype  \n",
      "---  ------     --------------  -----  \n",
      " 0   Pclass     801 non-null    int64  \n",
      " 1   Sex        801 non-null    object \n",
      " 2   Age        643 non-null    float64\n",
      " 3   SibSp      801 non-null    int64  \n",
      " 4   Parch      801 non-null    int64  \n",
      " 5   Fare       801 non-null    float64\n",
      " 6   Embarked   799 non-null    object \n",
      " 7   Cabin_num  175 non-null    float64\n",
      " 8   Cabin_cat  179 non-null    object \n",
      " 9   Title      801 non-null    object \n",
      "dtypes: float64(3), int64(3), object(4)\n",
      "memory usage: 68.8+ KB\n"
     ]
    }
   ],
   "source": [
    "X_train.info()"
   ]
  },
  {
   "cell_type": "code",
   "execution_count": 0,
   "metadata": {
    "ExecuteTime": {
     "end_time": "2020-03-09T07:31:49.061072Z",
     "start_time": "2020-03-09T07:31:49.056562Z"
    },
    "colab": {},
    "colab_type": "code",
    "id": "_cw1VyOTkcDb"
   },
   "outputs": [],
   "source": [
    "# from feature-engine\n",
    "from feature_engine import missing_data_imputers as mdi\n",
    "# for one hot encoding with feature-engine\n",
    "from feature_engine.categorical_encoders import OneHotCategoricalEncoder\n",
    "from feature_engine.categorical_encoders import RareLabelCategoricalEncoder\n",
    "from sklearn.linear_model import LogisticRegression\n",
    "from sklearn.pipeline import Pipeline"
   ]
  },
  {
   "cell_type": "code",
   "execution_count": 0,
   "metadata": {
    "ExecuteTime": {
     "end_time": "2020-03-09T07:31:49.933251Z",
     "start_time": "2020-03-09T07:31:49.926236Z"
    },
    "colab": {},
    "colab_type": "code",
    "id": "vjtLaZMGkcDd"
   },
   "outputs": [],
   "source": [
    "titanic_pipe = Pipeline([\n",
    "\n",
    "    # missing data imputation \n",
    "    ('imputer_num_arbit',\n",
    "     mdi.ArbitraryNumberImputer(arbitrary_number=-1,\n",
    "                                variables=['Cabin_num'])),\n",
    "    ('imputer_num_mean',\n",
    "     mdi.MeanMedianImputer(imputation_method='mean',variables=['Age'])),\n",
    "    \n",
    "    ('imputer_cat_freq',\n",
    "     mdi.FrequentCategoryImputer(variables=['Embarked'])),\n",
    "    \n",
    "    ('imputer_cat_missing',\n",
    "     mdi.CategoricalVariableImputer(variables=['Cabin_cat','Title'])),\n",
    "\n",
    "    # categorical encoding \n",
    "    ('encoder_rare_label',\n",
    "     RareLabelCategoricalEncoder(tol=0.01,\n",
    "                                    n_categories=4,\n",
    "                                    variables=['Cabin_cat','Title'])),\n",
    "    ('categorical_encoder',\n",
    "     OneHotCategoricalEncoder( top_categories=None,\n",
    "                               variables=['Sex', 'Embarked','Cabin_cat','Title'], # we can select which variables to encode\n",
    "                               drop_last=True)),\n",
    "\n",
    "])"
   ]
  },
  {
   "cell_type": "code",
   "execution_count": 0,
   "metadata": {
    "ExecuteTime": {
     "end_time": "2020-03-09T07:31:52.228656Z",
     "start_time": "2020-03-09T07:31:52.177198Z"
    },
    "colab": {
     "base_uri": "https://localhost:8080/",
     "height": 335
    },
    "colab_type": "code",
    "id": "b_GHPRTqkcDf",
    "outputId": "355164c8-03b8-4826-a5ea-6d776528d860"
   },
   "outputs": [
    {
     "data": {
      "text/plain": [
       "Pipeline(memory=None,\n",
       "         steps=[('imputer_num_arbit',\n",
       "                 ArbitraryNumberImputer(arbitrary_number=-1,\n",
       "                                        variables=['Cabin_num'])),\n",
       "                ('imputer_num_mean',\n",
       "                 MeanMedianImputer(imputation_method='mean',\n",
       "                                   variables=['Age'])),\n",
       "                ('imputer_cat_freq',\n",
       "                 FrequentCategoryImputer(variables=['Embarked'])),\n",
       "                ('imputer_cat_missing',\n",
       "                 CategoricalVariableImputer(variables=['Cabin_cat', 'Title'])),\n",
       "                ('encoder_rare_label',\n",
       "                 RareLabelCategoricalEncoder(n_categories=4, tol=0.01,\n",
       "                                             variables=['Cabin_cat', 'Title'])),\n",
       "                ('categorical_encoder',\n",
       "                 OneHotCategoricalEncoder(drop_last=True, top_categories=None,\n",
       "                                          variables=['Sex', 'Embarked',\n",
       "                                                     'Cabin_cat', 'Title']))],\n",
       "         verbose=False)"
      ]
     },
     "execution_count": 23,
     "metadata": {
      "tags": []
     },
     "output_type": "execute_result"
    }
   ],
   "source": [
    "titanic_pipe.fit(X_train, y_train)"
   ]
  },
  {
   "cell_type": "code",
   "execution_count": 0,
   "metadata": {
    "ExecuteTime": {
     "end_time": "2020-03-09T07:31:54.293463Z",
     "start_time": "2020-03-09T07:31:54.238241Z"
    },
    "colab": {},
    "colab_type": "code",
    "id": "swuB6Ws4kcDi"
   },
   "outputs": [],
   "source": [
    "# Apply Transformations\n",
    "X_train=titanic_pipe.transform(X_train)\n",
    "X_test=titanic_pipe.transform(X_test)"
   ]
  },
  {
   "cell_type": "markdown",
   "metadata": {
    "colab_type": "text",
    "id": "-nI-ZVWqkcDk"
   },
   "source": [
    "## <span class=\"mark\">DO NOT CHANGE STEPS BEFORE THIS POINT</span>"
   ]
  },
  {
   "cell_type": "code",
   "execution_count": 0,
   "metadata": {
    "ExecuteTime": {
     "end_time": "2020-03-09T07:31:56.351050Z",
     "start_time": "2020-03-09T07:31:56.106884Z"
    },
    "colab": {
     "base_uri": "https://localhost:8080/",
     "height": 168
    },
    "colab_type": "code",
    "id": "zNGLWBy8kcDl",
    "outputId": "79e6ec87-3be1-4bee-fe3c-d3d36dd21201"
   },
   "outputs": [
    {
     "name": "stdout",
     "output_type": "stream",
     "text": [
      "Mean Cross-validation scores: 0.8277406832298138\n",
      "\n",
      "Logistic.coef_: [[-7.85863078e-01 -3.53158137e-02 -5.17392041e-01 -2.91806266e-01\n",
      "   5.22366933e-03  6.58245960e-05 -1.49058278e+00 -2.88631072e-01\n",
      "   1.22058439e-01 -2.82756299e-01 -3.57417870e-01  2.68499697e-01\n",
      "   4.66248883e-01 -6.31518885e-01  1.02518016e+00 -5.95779499e-01\n",
      "  -1.24587977e+00  1.54113724e+00  8.19087060e-01  2.90533696e-02]]\n",
      "Logistic.intercept_: [4.3633671]\n",
      "Logistic Performance:  0.8555555555555555\n"
     ]
    }
   ],
   "source": [
    "# Train a logistic regression model, report the coefficients and model performance \n",
    "\n",
    "# YOUR CODE HERE\n",
    "from sklearn.linear_model import LogisticRegression\n",
    "from sklearn.model_selection import cross_val_score\n",
    "\n",
    "clf = LogisticRegression(max_iter= 5000).fit(X_train, y_train)\n",
    "\n",
    "cv_scores = cross_val_score(clf, X_train, y_train)\n",
    "\n",
    "# Mean Cross validation Score\n",
    "print(\"Mean Cross-validation scores: {}\".format(cv_scores.mean()))\n",
    "print()\n",
    "\n",
    "# Print Co-efficients\n",
    "print(\"Logistic.coef_:\", clf.coef_)\n",
    "print(\"Logistic.intercept_:\", clf.intercept_)\n",
    "\n",
    "# Check test data set performance\n",
    "print(\"Logistic Performance: \", clf.score(X_test,y_test))"
   ]
  },
  {
   "cell_type": "code",
   "execution_count": 0,
   "metadata": {
    "colab": {
     "base_uri": "https://localhost:8080/",
     "height": 674
    },
    "colab_type": "code",
    "id": "DKFswlq8kcDs",
    "outputId": "8a0d55e4-27a2-4b1a-d972-c9cdb3fa4b40"
   },
   "outputs": [
    {
     "name": "stderr",
     "output_type": "stream",
     "text": [
      "/usr/local/lib/python3.6/dist-packages/sklearn/model_selection/_validation.py:536: FitFailedWarning: Estimator fit failed. The score on this train-test partition for these parameters will be set to nan. Details: \n",
      "ValueError: Solver lbfgs supports only 'l2' or 'none' penalties, got l1 penalty.\n",
      "\n",
      "  FitFailedWarning)\n",
      "/usr/local/lib/python3.6/dist-packages/sklearn/model_selection/_validation.py:536: FitFailedWarning: Estimator fit failed. The score on this train-test partition for these parameters will be set to nan. Details: \n",
      "ValueError: Solver lbfgs supports only 'l2' or 'none' penalties, got l1 penalty.\n",
      "\n",
      "  FitFailedWarning)\n",
      "/usr/local/lib/python3.6/dist-packages/sklearn/model_selection/_validation.py:536: FitFailedWarning: Estimator fit failed. The score on this train-test partition for these parameters will be set to nan. Details: \n",
      "ValueError: Solver lbfgs supports only 'l2' or 'none' penalties, got l1 penalty.\n",
      "\n",
      "  FitFailedWarning)\n",
      "/usr/local/lib/python3.6/dist-packages/sklearn/model_selection/_validation.py:536: FitFailedWarning: Estimator fit failed. The score on this train-test partition for these parameters will be set to nan. Details: \n",
      "ValueError: Solver lbfgs supports only 'l2' or 'none' penalties, got l1 penalty.\n",
      "\n",
      "  FitFailedWarning)\n",
      "/usr/local/lib/python3.6/dist-packages/sklearn/model_selection/_validation.py:536: FitFailedWarning: Estimator fit failed. The score on this train-test partition for these parameters will be set to nan. Details: \n",
      "ValueError: Solver lbfgs supports only 'l2' or 'none' penalties, got l1 penalty.\n",
      "\n",
      "  FitFailedWarning)\n",
      "/usr/local/lib/python3.6/dist-packages/sklearn/model_selection/_validation.py:536: FitFailedWarning: Estimator fit failed. The score on this train-test partition for these parameters will be set to nan. Details: \n",
      "ValueError: Solver lbfgs supports only 'l2' or 'none' penalties, got l1 penalty.\n",
      "\n",
      "  FitFailedWarning)\n"
     ]
    },
    {
     "data": {
      "text/plain": [
       "GridSearchCV(cv=5, error_score=nan,\n",
       "             estimator=LogisticRegression(C=1.0, class_weight=None, dual=False,\n",
       "                                          fit_intercept=True,\n",
       "                                          intercept_scaling=1, l1_ratio=None,\n",
       "                                          max_iter=10000, multi_class='auto',\n",
       "                                          n_jobs=None, penalty='l2',\n",
       "                                          random_state=None, solver='lbfgs',\n",
       "                                          tol=0.0001, verbose=0,\n",
       "                                          warm_start=False),\n",
       "             iid='deprecated', n_jobs=None,\n",
       "             param_grid={'C': [0.001, 0.01, 0.1, 1, 10, 100],\n",
       "                         'penalty': ['l1', 'l2']},\n",
       "             pre_dispatch='2*n_jobs', refit=True, return_train_score=True,\n",
       "             scoring=None, verbose=0)"
      ]
     },
     "execution_count": 26,
     "metadata": {
      "tags": []
     },
     "output_type": "execute_result"
    }
   ],
   "source": [
    "logreg=LogisticRegression(max_iter=10000)\n",
    "from sklearn.model_selection import GridSearchCV\n",
    "logreg_param= {'C': [0.001,0.01,0.1,1,10,100], 'penalty': ['l1','l2']}\n",
    "logreg_grid = GridSearchCV(logreg, logreg_param,cv=5, return_train_score=True, )\n",
    "logreg_grid.fit(X_train,y_train)"
   ]
  },
  {
   "cell_type": "code",
   "execution_count": 0,
   "metadata": {
    "colab": {
     "base_uri": "https://localhost:8080/",
     "height": 84
    },
    "colab_type": "code",
    "id": "hOvXsv-lkcDu",
    "outputId": "c0f92afc-d9a6-4920-e700-193cfdf07a62"
   },
   "outputs": [
    {
     "name": "stdout",
     "output_type": "stream",
     "text": [
      "Best Mean Cross Validation Score is 0.8277406832298138\n",
      "Best Mean Cross Validation Score is {'C': 1, 'penalty': 'l2'}\n",
      "Train score is 0.83270911360799\n",
      "Test score is 0.8555555555555555\n"
     ]
    }
   ],
   "source": [
    "print(f'Best Mean Cross Validation Score is {logreg_grid.best_score_}')\n",
    "print(f'Best Mean Cross Validation Score is {logreg_grid.best_params_}')\n",
    "print(f'Train score is {logreg_grid.score(X_train,y_train)}')\n",
    "print(f'Test score is {logreg_grid.score(X_test,y_test)}')\n"
   ]
  },
  {
   "cell_type": "code",
   "execution_count": 0,
   "metadata": {
    "colab": {},
    "colab_type": "code",
    "id": "0plxGmCFkcDy"
   },
   "outputs": [],
   "source": []
  },
  {
   "cell_type": "code",
   "execution_count": 0,
   "metadata": {
    "ExecuteTime": {
     "end_time": "2020-03-09T07:32:06.690269Z",
     "start_time": "2020-03-09T07:32:01.476567Z"
    },
    "colab": {
     "base_uri": "https://localhost:8080/",
     "height": 84
    },
    "colab_type": "code",
    "id": "tXTgmyC6kcD0",
    "outputId": "dc0488bc-6cf5-4da3-d315-d3cea2d200b4"
   },
   "outputs": [
    {
     "name": "stdout",
     "output_type": "stream",
     "text": [
      "Best Mean Cross-validation score: 0.7179\n",
      "\n",
      "KNN parameters:  {'n_neighbors': 7}\n",
      "KNN Test Performance:  0.8111111111111111\n"
     ]
    }
   ],
   "source": [
    "# Train a KNN model, report the coefficients, the best parameters, and model performance \n",
    "# hint: find the optimal k\n",
    "\n",
    "# YOUR CODE HERE\n",
    "\n",
    "from sklearn.model_selection import GridSearchCV\n",
    "from sklearn.neighbors import KNeighborsClassifier\n",
    "\n",
    "knn = KNeighborsClassifier()\n",
    "\n",
    "# define a list of parameters\n",
    "\n",
    "param_knn = {'n_neighbors': range(6,9)}\n",
    "\n",
    "#apply grid search\n",
    "grid_knn = GridSearchCV(knn, param_knn, cv=5, return_train_score=True)\n",
    "grid_knn.fit(X_train, y_train)\n",
    "\n",
    "# Mean Cross Validation Score\n",
    "print(\"Best Mean Cross-validation score: {:.4f}\".format(grid_knn.best_score_))\n",
    "print()\n",
    "\n",
    "#find best parameters\n",
    "print('KNN parameters: ', grid_knn.best_params_)\n",
    "\n",
    "# Check test data set performance\n",
    "print(\"KNN Test Performance: \", grid_knn.score(X_test,y_test))"
   ]
  },
  {
   "cell_type": "markdown",
   "metadata": {
    "colab_type": "text",
    "id": "DByIcgYhkcD5"
   },
   "source": [
    "# hw2 best model"
   ]
  },
  {
   "cell_type": "code",
   "execution_count": 0,
   "metadata": {
    "ExecuteTime": {
     "end_time": "2020-03-09T07:32:10.538012Z",
     "start_time": "2020-03-09T07:32:09.841119Z"
    },
    "colab": {
     "base_uri": "https://localhost:8080/",
     "height": 84
    },
    "colab_type": "code",
    "id": "ePxQiNH-kcD5",
    "outputId": "c3ff2710-7159-4146-bf48-a64b73b9f08f"
   },
   "outputs": [
    {
     "name": "stdout",
     "output_type": "stream",
     "text": [
      "Best Mean Cross-validation score: 0.8352\n",
      "\n",
      "Decision Tree parameters:  {'criterion': 'gini', 'max_depth': 8, 'min_samples_split': 14}\n",
      "Decision Tree Performance:  0.8111111111111111\n"
     ]
    }
   ],
   "source": [
    "# Train a Decision Tree model, report the coefficients, the best parameters, and model performance (10 points)\n",
    "# hint: find the optimal max_depth\n",
    "\n",
    "# YOUR CODE HERE\n",
    "from sklearn.tree import DecisionTreeClassifier\n",
    "dtree = DecisionTreeClassifier(random_state=0)\n",
    "\n",
    "#define a list of parameters\n",
    "param_dtree = {'criterion':['gini','entropy'],\n",
    "                'max_depth': range(5,10) ,\n",
    "               'min_samples_split': range(12,16)}\n",
    "\n",
    "#apply grid search\n",
    "grid_dtree = GridSearchCV(dtree, param_dtree, cv=5, return_train_score = True)\n",
    "grid_dtree.fit(X_train, y_train)\n",
    "\n",
    "# Mean Cross Validation Score\n",
    "print(\"Best Mean Cross-validation score: {:.4f}\".format(grid_dtree.best_score_))\n",
    "print()\n",
    "\n",
    "#find best parameters\n",
    "print('Decision Tree parameters: ', grid_dtree.best_params_)\n",
    "\n",
    "# Check test data set performance\n",
    "print(\"Decision Tree Performance: \", grid_dtree.score(X_test,y_test))\n",
    "\n"
   ]
  },
  {
   "cell_type": "code",
   "execution_count": 0,
   "metadata": {
    "colab": {
     "base_uri": "https://localhost:8080/",
     "height": 50
    },
    "colab_type": "code",
    "id": "kzxUR5aukcD8",
    "outputId": "d46efb0a-c288-4a81-e169-a470e219e571"
   },
   "outputs": [
    {
     "name": "stdout",
     "output_type": "stream",
     "text": [
      "Train score is:0.8964\n",
      "Test score is:0.8111\n"
     ]
    }
   ],
   "source": [
    "print(\"Train score is:{:.4f}\".format(grid_dtree.score(X_train,y_train)))\n",
    "print(\"Test score is:{:.4f}\".format(grid_dtree.score(X_test,y_test)))"
   ]
  },
  {
   "cell_type": "code",
   "execution_count": 0,
   "metadata": {
    "colab": {
     "base_uri": "https://localhost:8080/",
     "height": 255
    },
    "colab_type": "code",
    "id": "tYtS05sakcD-",
    "outputId": "2076cd9d-7f04-4b73-9586-2426e6cafeee"
   },
   "outputs": [
    {
     "name": "stderr",
     "output_type": "stream",
     "text": [
      "/usr/local/lib/python3.6/dist-packages/sklearn/svm/_base.py:947: ConvergenceWarning: Liblinear failed to converge, increase the number of iterations.\n",
      "  \"the number of iterations.\", ConvergenceWarning)\n",
      "/usr/local/lib/python3.6/dist-packages/sklearn/svm/_base.py:947: ConvergenceWarning: Liblinear failed to converge, increase the number of iterations.\n",
      "  \"the number of iterations.\", ConvergenceWarning)\n",
      "/usr/local/lib/python3.6/dist-packages/sklearn/svm/_base.py:947: ConvergenceWarning: Liblinear failed to converge, increase the number of iterations.\n",
      "  \"the number of iterations.\", ConvergenceWarning)\n",
      "/usr/local/lib/python3.6/dist-packages/sklearn/svm/_base.py:947: ConvergenceWarning: Liblinear failed to converge, increase the number of iterations.\n",
      "  \"the number of iterations.\", ConvergenceWarning)\n",
      "/usr/local/lib/python3.6/dist-packages/sklearn/svm/_base.py:947: ConvergenceWarning: Liblinear failed to converge, increase the number of iterations.\n",
      "  \"the number of iterations.\", ConvergenceWarning)\n"
     ]
    },
    {
     "name": "stdout",
     "output_type": "stream",
     "text": [
      "mean cv_score is :0.8277\n"
     ]
    },
    {
     "name": "stderr",
     "output_type": "stream",
     "text": [
      "/usr/local/lib/python3.6/dist-packages/sklearn/svm/_base.py:947: ConvergenceWarning: Liblinear failed to converge, increase the number of iterations.\n",
      "  \"the number of iterations.\", ConvergenceWarning)\n"
     ]
    }
   ],
   "source": [
    "# Linear SVC\n",
    "from sklearn.svm import LinearSVC\n",
    "lin_svc = LinearSVC(max_iter=100000)\n",
    "lin_svc.fit(X_train,y_train)\n",
    "LinearSVC_cv_score = cross_val_score(lin_svc,X_train,y_train)\n",
    "print(\"mean cv_score is :{:.4f}\".format(LinearSVC_cv_score.mean()))\n",
    "#print(\"Train score is:{:.4f}\".format(LinearSVC_cv_score.score(X_train,y_train)))\n",
    "#print(\"Test score is:{:.4f}\".format(LinearSVC_cv_score.score(X_test,y_test)))"
   ]
  },
  {
   "cell_type": "code",
   "execution_count": 0,
   "metadata": {
    "colab": {
     "base_uri": "https://localhost:8080/",
     "height": 84
    },
    "colab_type": "code",
    "id": "ihRO11hgkcEB",
    "outputId": "1a5f2a43-6cd0-4334-f9ed-102b93c017f6"
   },
   "outputs": [
    {
     "name": "stdout",
     "output_type": "stream",
     "text": [
      "train score: 0.8826\n",
      "test score: 0.8444\n",
      "Best parameters: {'C': 300, 'gamma': 0.001, 'kernel': 'rbf'}\n",
      "Best cross-validation score: 0.8003\n"
     ]
    }
   ],
   "source": [
    "#Support Vector machines\n",
    "from sklearn.svm import SVC\n",
    "param_grid = [{'kernel': ['rbf'],\n",
    "               'C': [200,300,500,1000],\n",
    "               'gamma': [0.001,.01,.03,0.1,.2]}\n",
    "              ]\n",
    "grid_search_svc_rbf = GridSearchCV(SVC(probability = True), param_grid, cv=5,\n",
    "                          return_train_score=True,n_jobs = -1)\n",
    "grid_search_svc_rbf.fit(X_train, y_train)\n",
    "print('train score: {:.4f}'.format(grid_search_svc_rbf.score(X_train, y_train)))\n",
    "print('test score: {:.4f}'.format(grid_search_svc_rbf.score(X_test, y_test)))\n",
    "print(\"Best parameters: {}\".format(grid_search_svc_rbf.best_params_))\n",
    "print(\"Best cross-validation score: {:.4f}\".format(grid_search_svc_rbf.best_score_))"
   ]
  },
  {
   "cell_type": "code",
   "execution_count": 0,
   "metadata": {
    "colab": {},
    "colab_type": "code",
    "id": "VJ1dOBvckcEE"
   },
   "outputs": [],
   "source": [
    "from sklearn.svm import SVC\n",
    "param_grid = [\n",
    "              {'kernel': ['linear'],\n",
    "               'C': [.001,.01,1,2],\n",
    "              'tol':[1,2,5]},\n",
    "            ]\n",
    "grid_search_svc_lr = GridSearchCV(SVC(probability = True), param_grid, cv=5,\n",
    "                          return_train_score=True,n_jobs = -1)"
   ]
  },
  {
   "cell_type": "code",
   "execution_count": 0,
   "metadata": {
    "colab": {
     "base_uri": "https://localhost:8080/",
     "height": 84
    },
    "colab_type": "code",
    "id": "gry5ZWgukcEG",
    "outputId": "ef0734ef-8740-4e42-be62-a14a1059ef88"
   },
   "outputs": [
    {
     "name": "stdout",
     "output_type": "stream",
     "text": [
      "train score: 0.8327\n",
      "test score: 0.8333\n",
      "Best parameters: {'C': 1, 'kernel': 'linear', 'tol': 1}\n",
      "Best cross-validation score: 0.8253\n"
     ]
    }
   ],
   "source": [
    "grid_search_svc_lr.fit(X_train, y_train)\n",
    "print('train score: {:.4f}'.format(grid_search_svc_lr.score(X_train, y_train)))\n",
    "print('test score: {:.4f}'.format(grid_search_svc_lr.score(X_test, y_test)))\n",
    "print(\"Best parameters: {}\".format(grid_search_svc_lr.best_params_))\n",
    "print(\"Best cross-validation score: {:.4f}\".format(grid_search_svc_lr.best_score_))"
   ]
  },
  {
   "cell_type": "code",
   "execution_count": 0,
   "metadata": {
    "colab": {
     "base_uri": "https://localhost:8080/",
     "height": 84
    },
    "colab_type": "code",
    "id": "6zIFPRV6kcEL",
    "outputId": "f75788fe-10a9-4078-d8c5-76175c382a93"
   },
   "outputs": [
    {
     "name": "stdout",
     "output_type": "stream",
     "text": [
      "train score: 0.8065\n",
      "test score: 0.8111\n",
      "Best parameters: {'C': 100, 'degree': 1, 'kernel': 'poly', 'tol': 0.01}\n",
      "Best cross-validation score: 0.8028\n"
     ]
    }
   ],
   "source": [
    "from sklearn.svm import SVC\n",
    "param_grid = [\n",
    "             {'kernel': ['poly'],\n",
    "               'C': [.01,5,10,100],\n",
    "              'tol':[.01,5,10,100],\n",
    "            'degree':[1,2,3] }\n",
    "            ]\n",
    "grid_search_svc_poly = GridSearchCV(SVC(probability = True), param_grid, cv=5,\n",
    "                          return_train_score=True,n_jobs = -1)\n",
    "grid_search_svc_poly.fit(X_train, y_train)\n",
    "print('train score: {:.4f}'.format(grid_search_svc_poly.score(X_train, y_train)))\n",
    "print('test score: {:.4f}'.format(grid_search_svc_poly.score(X_test, y_test)))\n",
    "print(\"Best parameters: {}\".format(grid_search_svc_poly.best_params_))\n",
    "print(\"Best cross-validation score: {:.4f}\".format(grid_search_svc_poly.best_score_))"
   ]
  },
  {
   "cell_type": "markdown",
   "metadata": {
    "colab_type": "text",
    "id": "tfNCxI9MkcEO"
   },
   "source": [
    "train score: 0.8315\n",
    "test score: 0.8444\n",
    "Best parameters: {'C': 10, 'degree': 1, 'kernel': 'poly', 'tol': 0.01}\n",
    "Best cross-validation score: 0.8240"
   ]
  },
  {
   "cell_type": "code",
   "execution_count": 0,
   "metadata": {
    "colab": {
     "base_uri": "https://localhost:8080/",
     "height": 117
    },
    "colab_type": "code",
    "id": "7m_KOlopkcEQ",
    "outputId": "babe2ecd-9966-4c9e-8001-3cccc68c28a2"
   },
   "outputs": [
    {
     "name": "stdout",
     "output_type": "stream",
     "text": [
      "train score: 0.6217\n",
      "test score: 0.5667\n",
      "Best parameters: {'C': 0.001, 'kernel': 'sigmoid', 'tol': 0.001}\n",
      "Best cross-validation score: 0.6217\n",
      "Train score is 0.6217228464419475\n",
      "Test score is 0.5666666666666667\n"
     ]
    }
   ],
   "source": [
    "from sklearn.svm import SVC\n",
    "param_grid = [\n",
    "             {'kernel': ['sigmoid'],\n",
    "               'C': [.001,.01,1,],\n",
    "              'tol':[.001,.01,1]}]\n",
    "grid_search_svc_sigmoid = GridSearchCV(SVC(probability = True), param_grid, cv=5,\n",
    "                          return_train_score=True,n_jobs = -1)\n",
    "grid_search_svc_sigmoid.fit(X_train, y_train)\n",
    "print('train score: {:.4f}'.format(grid_search_svc_sigmoid.score(X_train, y_train)))\n",
    "print('test score: {:.4f}'.format(grid_search_svc_sigmoid.score(X_test, y_test)))\n",
    "print(\"Best parameters: {}\".format(grid_search_svc_sigmoid.best_params_))\n",
    "print(\"Best cross-validation score: {:.4f}\".format(grid_search_svc_sigmoid.best_score_))\n",
    "print(f'Train score is {grid_search_svc_sigmoid.score(X_train,y_train)}')\n",
    "print(f'Test score is {grid_search_svc_sigmoid.score(X_test,y_test)}')"
   ]
  },
  {
   "cell_type": "code",
   "execution_count": 0,
   "metadata": {
    "colab": {},
    "colab_type": "code",
    "id": "DMj7-ool_sPl"
   },
   "outputs": [],
   "source": []
  },
  {
   "cell_type": "markdown",
   "metadata": {
    "colab_type": "text",
    "id": "f5x_Jvu5kcEU"
   },
   "source": [
    "train score: 0.6217\n",
    "test score: 0.5667\n",
    "Best parameters: {'C': 0.01, 'kernel': 'sigmoid', 'tol': 0.01}\n",
    "Best cross-validation score: 0.6217"
   ]
  },
  {
   "cell_type": "markdown",
   "metadata": {
    "colab_type": "text",
    "id": "5Im-t2-ZkcEU"
   },
   "source": [
    "# Bagging\n"
   ]
  },
  {
   "cell_type": "markdown",
   "metadata": {
    "colab_type": "text",
    "id": "E3kd2laIkcEV"
   },
   "source": [
    "## Btree"
   ]
  },
  {
   "cell_type": "code",
   "execution_count": 0,
   "metadata": {
    "colab": {},
    "colab_type": "code",
    "id": "AFTklOgKkcEW"
   },
   "outputs": [],
   "source": [
    "from sklearn.ensemble import BaggingClassifier"
   ]
  },
  {
   "cell_type": "code",
   "execution_count": 0,
   "metadata": {
    "colab": {
     "base_uri": "https://localhost:8080/",
     "height": 456
    },
    "colab_type": "code",
    "id": "Kdr7tyXckcEd",
    "outputId": "b0f046f6-ee73-4413-ab38-c4e220f63a16"
   },
   "outputs": [
    {
     "data": {
      "text/plain": [
       "GridSearchCV(cv=5, error_score=nan,\n",
       "             estimator=BaggingClassifier(base_estimator=DecisionTreeClassifier(ccp_alpha=0.0,\n",
       "                                                                               class_weight=None,\n",
       "                                                                               criterion='gini',\n",
       "                                                                               max_depth=None,\n",
       "                                                                               max_features=None,\n",
       "                                                                               max_leaf_nodes=None,\n",
       "                                                                               min_impurity_decrease=0.0,\n",
       "                                                                               min_impurity_split=None,\n",
       "                                                                               min_samples_leaf=1,\n",
       "                                                                               min_samples_split=2,\n",
       "                                                                               min_weight_fraction_leaf=0.0,\n",
       "                                                                               presort='deprecated',\n",
       "                                                                               random_st...\n",
       "                                         bootstrap_features=False,\n",
       "                                         max_features=1.0, max_samples=1.0,\n",
       "                                         n_estimators=10, n_jobs=None,\n",
       "                                         oob_score=False, random_state=0,\n",
       "                                         verbose=0, warm_start=False),\n",
       "             iid='deprecated', n_jobs=None,\n",
       "             param_grid={'base_estimator__max_depth': range(1, 10),\n",
       "                         'max_samples': [0.8, 1],\n",
       "                         'n_estimators': [10, 25, 100]},\n",
       "             pre_dispatch='2*n_jobs', refit=True, return_train_score=True,\n",
       "             scoring=None, verbose=0)"
      ]
     },
     "execution_count": 38,
     "metadata": {
      "tags": []
     },
     "output_type": "execute_result"
    }
   ],
   "source": [
    "bag_dtree1 = BaggingClassifier(base_estimator=DecisionTreeClassifier(), bootstrap=True, random_state=0)\n",
    "\n",
    "bag_dtree1_param = {\n",
    "                 'base_estimator__max_depth': range(1,10),\n",
    "                 'max_samples':  [0.8,1],\n",
    "                 'n_estimators': [10,25,100]}\n",
    "bag_dtree1_grid = GridSearchCV(bag_dtree1, bag_dtree1_param,cv=5, return_train_score=True, )\n",
    "bag_dtree1_grid.fit(X_train,y_train)"
   ]
  },
  {
   "cell_type": "code",
   "execution_count": 0,
   "metadata": {
    "colab": {},
    "colab_type": "code",
    "id": "mx7cH0I8kcEg"
   },
   "outputs": [],
   "source": []
  },
  {
   "cell_type": "code",
   "execution_count": 0,
   "metadata": {
    "colab": {
     "base_uri": "https://localhost:8080/",
     "height": 104
    },
    "colab_type": "code",
    "id": "2mAv9bdgkcEk",
    "outputId": "f8b8595e-0a3c-405c-b293-4a3cc296cb19"
   },
   "outputs": [
    {
     "name": "stdout",
     "output_type": "stream",
     "text": [
      "Best Mean Cross Validation Score is 0.8402096273291926\n",
      "Best Mean Cross Validation Score is {'base_estimator__max_depth': 9, 'max_samples': 0.8, 'n_estimators': 100}\n",
      "Train score is 0.9413233458177278\n",
      "Test score is 0.8\n"
     ]
    }
   ],
   "source": [
    "print(f'Best Mean Cross Validation Score is {bag_dtree1_grid.best_score_}')\n",
    "print(f'Best Mean Cross Validation Score is {bag_dtree1_grid.best_params_}')\n",
    "print(f'Train score is {bag_dtree1_grid.score(X_train,y_train)}')\n",
    "print(f'Test score is {bag_dtree1_grid.score(X_test,y_test)}')"
   ]
  },
  {
   "cell_type": "markdown",
   "metadata": {
    "colab_type": "text",
    "id": "TAoS1r_LkcEo"
   },
   "source": [
    "Best Mean Cross Validation Score is 0.8401997503121099\n",
    "Best Mean Cross Validation Score is {'base_estimator__max_depth': 8, 'max_samples': 0.8, 'n_estimators': 10}\n",
    "Train score is 0.9225967540574282\n",
    "Test score is 0.8111111111111111"
   ]
  },
  {
   "cell_type": "code",
   "execution_count": 0,
   "metadata": {
    "colab": {
     "base_uri": "https://localhost:8080/",
     "height": 456
    },
    "colab_type": "code",
    "id": "OwfVm1LIkcEq",
    "outputId": "33673a23-f350-47e3-cc9c-345df4825dd1"
   },
   "outputs": [
    {
     "data": {
      "text/plain": [
       "GridSearchCV(cv=5, error_score=nan,\n",
       "             estimator=BaggingClassifier(base_estimator=DecisionTreeClassifier(ccp_alpha=0.0,\n",
       "                                                                               class_weight=None,\n",
       "                                                                               criterion='gini',\n",
       "                                                                               max_depth=None,\n",
       "                                                                               max_features=None,\n",
       "                                                                               max_leaf_nodes=None,\n",
       "                                                                               min_impurity_decrease=0.0,\n",
       "                                                                               min_impurity_split=None,\n",
       "                                                                               min_samples_leaf=1,\n",
       "                                                                               min_samples_split=2,\n",
       "                                                                               min_weight_fraction_leaf=0.0,\n",
       "                                                                               presort='deprecated',\n",
       "                                                                               random_st...\n",
       "                                         bootstrap_features=False,\n",
       "                                         max_features=1.0, max_samples=1.0,\n",
       "                                         n_estimators=10, n_jobs=None,\n",
       "                                         oob_score=False, random_state=0,\n",
       "                                         verbose=0, warm_start=False),\n",
       "             iid='deprecated', n_jobs=None,\n",
       "             param_grid={'base_estimator__max_depth': range(1, 10),\n",
       "                         'max_samples': [0.01, 0.7, 0.8, 0.9],\n",
       "                         'n_estimators': [5, 10, 12, 15]},\n",
       "             pre_dispatch='2*n_jobs', refit=True, return_train_score=True,\n",
       "             scoring=None, verbose=0)"
      ]
     },
     "execution_count": 40,
     "metadata": {
      "tags": []
     },
     "output_type": "execute_result"
    }
   ],
   "source": [
    "bag_dtree1 = BaggingClassifier(base_estimator=DecisionTreeClassifier(), bootstrap=True, random_state=0)\n",
    "\n",
    "bag_dtree1_param = {\n",
    "                 'base_estimator__max_depth': range(1,10),\n",
    "                 'max_samples':  [.01,0.7,0.8,0.9],\n",
    "                 'n_estimators': [5,10,12,15]}\n",
    "bag_dtree1_grid1 = GridSearchCV(bag_dtree1, bag_dtree1_param,cv=5, return_train_score=True, )\n",
    "bag_dtree1_grid1.fit(X_train,y_train)"
   ]
  },
  {
   "cell_type": "code",
   "execution_count": 0,
   "metadata": {
    "colab": {
     "base_uri": "https://localhost:8080/",
     "height": 104
    },
    "colab_type": "code",
    "id": "EShWmuI3kcEv",
    "outputId": "829c8239-3aa7-44d9-fef4-74e5ebe8eb62"
   },
   "outputs": [
    {
     "name": "stdout",
     "output_type": "stream",
     "text": [
      "Best Mean Cross Validation Score is 0.8339518633540373\n",
      "Best Mean Cross Validation Score is {'base_estimator__max_depth': 7, 'max_samples': 0.8, 'n_estimators': 12}\n",
      "Train score is 0.9013732833957553\n",
      "Test score is 0.8333333333333334\n"
     ]
    }
   ],
   "source": [
    "print(f'Best Mean Cross Validation Score is {bag_dtree1_grid1.best_score_}')\n",
    "print(f'Best Mean Cross Validation Score is {bag_dtree1_grid1.best_params_}')\n",
    "print(f'Train score is {bag_dtree1_grid1.score(X_train,y_train)}')\n",
    "print(f'Test score is {bag_dtree1_grid1.score(X_test,y_test)}')"
   ]
  },
  {
   "cell_type": "markdown",
   "metadata": {
    "colab_type": "text",
    "id": "wbUGHklBkcEz"
   },
   "source": [
    "Best Mean Cross Validation Score is 0.8401997503121099\n",
    "Best Mean Cross Validation Score is {'base_estimator__max_depth': 8, 'max_samples': 0.8, 'n_estimators': 10}\n",
    "Train score is 0.9225967540574282\n",
    "Test score is 0.8111111111111111"
   ]
  },
  {
   "cell_type": "code",
   "execution_count": 0,
   "metadata": {
    "colab": {
     "base_uri": "https://localhost:8080/",
     "height": 473
    },
    "colab_type": "code",
    "id": "UDUNE0DjkcE0",
    "outputId": "65643a17-288e-4cf2-be05-970f34915fc5"
   },
   "outputs": [
    {
     "data": {
      "text/plain": [
       "GridSearchCV(cv=5, error_score=nan,\n",
       "             estimator=BaggingClassifier(base_estimator=DecisionTreeClassifier(ccp_alpha=0.0,\n",
       "                                                                               class_weight=None,\n",
       "                                                                               criterion='gini',\n",
       "                                                                               max_depth=8,\n",
       "                                                                               max_features=None,\n",
       "                                                                               max_leaf_nodes=None,\n",
       "                                                                               min_impurity_decrease=0.0,\n",
       "                                                                               min_impurity_split=None,\n",
       "                                                                               min_samples_leaf=1,\n",
       "                                                                               min_samples_split=14,\n",
       "                                                                               min_weight_fraction_leaf=0.0,\n",
       "                                                                               presort='deprecated',\n",
       "                                                                               random_stat...\n",
       "                                                                               splitter='best'),\n",
       "                                         bootstrap=True,\n",
       "                                         bootstrap_features=False,\n",
       "                                         max_features=1.0, max_samples=1.0,\n",
       "                                         n_estimators=10, n_jobs=None,\n",
       "                                         oob_score=False, random_state=0,\n",
       "                                         verbose=0, warm_start=False),\n",
       "             iid='deprecated', n_jobs=None,\n",
       "             param_grid={'max_samples': [0.8, 1],\n",
       "                         'n_estimators': [10, 25, 100]},\n",
       "             pre_dispatch='2*n_jobs', refit=True, return_train_score=True,\n",
       "             scoring=None, verbose=0)"
      ]
     },
     "execution_count": 42,
     "metadata": {
      "tags": []
     },
     "output_type": "execute_result"
    }
   ],
   "source": [
    "bag_dtree2 = BaggingClassifier(DecisionTreeClassifier(criterion= 'gini', max_depth = 8, min_samples_split= 14), bootstrap=True, random_state=0)\n",
    "\n",
    "bag_dtree2_param = {\n",
    "                 'max_samples':  [0.8,1],\n",
    "                 'n_estimators': [10,25,100]}\n",
    "bag_dtree2_grid = GridSearchCV(bag_dtree2, bag_dtree2_param,cv=5, return_train_score=True, )\n",
    "bag_dtree2_grid.fit(X_train,y_train)"
   ]
  },
  {
   "cell_type": "code",
   "execution_count": 0,
   "metadata": {
    "colab": {
     "base_uri": "https://localhost:8080/",
     "height": 84
    },
    "colab_type": "code",
    "id": "z-L8tgPMkcE3",
    "outputId": "ca95b6b1-01b3-47cc-e880-650aa9457aa9"
   },
   "outputs": [
    {
     "name": "stdout",
     "output_type": "stream",
     "text": [
      "Best Mean Cross Validation Score is 0.8364751552795031\n",
      "Best Mean Cross Validation Score is {'max_samples': 0.8, 'n_estimators': 100}\n",
      "Train score is 0.8963795255930087\n",
      "Test score is 0.8\n"
     ]
    }
   ],
   "source": [
    "print(f'Best Mean Cross Validation Score is {bag_dtree2_grid.best_score_}')\n",
    "print(f'Best Mean Cross Validation Score is {bag_dtree2_grid.best_params_}')\n",
    "print(f'Train score is {bag_dtree2_grid.score(X_train,y_train)}')\n",
    "print(f'Test score is {bag_dtree2_grid.score(X_test,y_test)}')"
   ]
  },
  {
   "cell_type": "code",
   "execution_count": 0,
   "metadata": {
    "colab": {},
    "colab_type": "code",
    "id": "lGdZeHJrkcE8"
   },
   "outputs": [],
   "source": []
  },
  {
   "cell_type": "code",
   "execution_count": 0,
   "metadata": {
    "colab": {},
    "colab_type": "code",
    "id": "0SkG-6YckcE-"
   },
   "outputs": [],
   "source": []
  },
  {
   "cell_type": "code",
   "execution_count": 0,
   "metadata": {
    "colab": {},
    "colab_type": "code",
    "id": "-PZQmKu2kcFA"
   },
   "outputs": [],
   "source": []
  },
  {
   "cell_type": "markdown",
   "metadata": {
    "colab_type": "text",
    "id": "bViG8gvZkcFE"
   },
   "source": [
    "# pasting\n"
   ]
  },
  {
   "cell_type": "code",
   "execution_count": 0,
   "metadata": {
    "colab": {
     "base_uri": "https://localhost:8080/",
     "height": 104
    },
    "colab_type": "code",
    "id": "oPZ3R2tDkcFE",
    "outputId": "c50c399c-7fb8-4d78-c4c6-b73f5522a01f"
   },
   "outputs": [
    {
     "name": "stdout",
     "output_type": "stream",
     "text": [
      "Best Mean Cross Validation Score is 0.8402018633540372\n",
      "Best Mean Cross Validation Score is {'base_estimator__max_depth': 8, 'max_samples': 0.8, 'n_estimators': 25}\n",
      "Train score is 0.9288389513108615\n",
      "Test score is 0.8\n"
     ]
    }
   ],
   "source": [
    "paste_dtree1 = BaggingClassifier(base_estimator=DecisionTreeClassifier(), bootstrap=False, random_state=0, oob_score=False)\n",
    "\n",
    "paste_dtree1_param = {\n",
    "                 'base_estimator__max_depth': range(1,10),\n",
    "                 'max_samples':  [0.8,1],\n",
    "                 'n_estimators': [10,25,100]}\n",
    "paste_dtree1_grid = GridSearchCV(paste_dtree1, paste_dtree1_param,cv=5, return_train_score=True, n_jobs = -1)\n",
    "paste_dtree1_grid.fit(X_train,y_train)\n",
    "\n",
    "\n",
    "print(f'Best Mean Cross Validation Score is {paste_dtree1_grid.best_score_}')\n",
    "print(f'Best Mean Cross Validation Score is {paste_dtree1_grid.best_params_}')\n",
    "print(f'Train score is {paste_dtree1_grid.score(X_train,y_train)}')\n",
    "print(f'Test score is {paste_dtree1_grid.score(X_test,y_test)}')"
   ]
  },
  {
   "cell_type": "code",
   "execution_count": 0,
   "metadata": {
    "colab": {
     "base_uri": "https://localhost:8080/",
     "height": 84
    },
    "colab_type": "code",
    "id": "1nqNtZmokcFH",
    "outputId": "8790ad83-4f08-4ed8-b7a5-3fd8ec93515c"
   },
   "outputs": [
    {
     "name": "stdout",
     "output_type": "stream",
     "text": [
      "Best Mean Cross Validation Score is 0.8364751552795031\n",
      "Best Mean Cross Validation Score is {'max_samples': 0.8, 'n_estimators': 100}\n",
      "Train score is 0.8963795255930087\n",
      "Test score is 0.8\n"
     ]
    }
   ],
   "source": [
    "paste_dtree2 = BaggingClassifier(DecisionTreeClassifier(criterion= 'gini', max_depth = 8, min_samples_split= 14), bootstrap=True, random_state=0)\n",
    "\n",
    "paste_dtree2_param = {\n",
    "                 'max_samples':  [0.8,1],\n",
    "                 'n_estimators': [100,150]}\n",
    "paste_dtree2_grid = GridSearchCV(bag_dtree2, bag_dtree2_param,cv=5, return_train_score=True, )\n",
    "paste_dtree2_grid.fit(X_train,y_train)\n",
    "\n",
    "\n",
    "print(f'Best Mean Cross Validation Score is {paste_dtree2_grid.best_score_}')\n",
    "print(f'Best Mean Cross Validation Score is {paste_dtree2_grid.best_params_}')\n",
    "print(f'Train score is {paste_dtree2_grid.score(X_train,y_train)}')\n",
    "print(f'Test score is {paste_dtree2_grid.score(X_test,y_test)}')"
   ]
  },
  {
   "cell_type": "markdown",
   "metadata": {
    "colab_type": "text",
    "id": "jTArHSrhkcFO"
   },
   "source": [
    "# Random forest"
   ]
  },
  {
   "cell_type": "code",
   "execution_count": 0,
   "metadata": {
    "colab": {},
    "colab_type": "code",
    "id": "nU1bKQHjkcFP"
   },
   "outputs": [],
   "source": [
    "from sklearn.ensemble import RandomForestClassifier"
   ]
  },
  {
   "cell_type": "code",
   "execution_count": 0,
   "metadata": {
    "colab": {
     "base_uri": "https://localhost:8080/",
     "height": 104
    },
    "colab_type": "code",
    "id": "gMsCWOVikcFU",
    "outputId": "83ce3adb-d390-4143-f092-d788938a61a5"
   },
   "outputs": [
    {
     "name": "stdout",
     "output_type": "stream",
     "text": [
      "Best Mean Cross Validation Score is 0.8427173913043479\n",
      "Best Mean Cross Validation Score is {'criterion': 'entropy', 'max_depth': 7, 'max_features': 'auto', 'n_estimators': 150}\n",
      "Train score is 0.8826466916354557\n",
      "Test score is 0.8333333333333334\n"
     ]
    }
   ],
   "source": [
    "rfc =RandomForestClassifier(random_state=42)\n",
    "rfc_param = { \n",
    "    'n_estimators': [150,180,200],\n",
    "    'max_features': ['auto', 'sqrt', 'log2'],\n",
    "    'max_depth' : [5,6,7,8],\n",
    "    'criterion' :['gini', 'entropy']\n",
    "}\n",
    "\n",
    "rfc_grid = GridSearchCV(rfc, rfc_param,cv=5, return_train_score=True,n_jobs = -1 )\n",
    "rfc_grid.fit(X_train,y_train)\n",
    "\n",
    "print(f'Best Mean Cross Validation Score is {rfc_grid.best_score_}')\n",
    "print(f'Best Mean Cross Validation Score is {rfc_grid.best_params_}')\n",
    "print(f'Train score is {rfc_grid.score(X_train,y_train)}')\n",
    "print(f'Test score is {rfc_grid.score(X_test,y_test)}')"
   ]
  },
  {
   "cell_type": "markdown",
   "metadata": {
    "colab_type": "text",
    "id": "9spOp-WdkcFd"
   },
   "source": [
    "Best Mean Cross Validation Score is 0.83645443196005\n",
    "Best Mean Cross Validation Score is {'criterion': 'gini', 'max_depth': 7, 'max_features': 'auto', 'n_estimators': 200}\n",
    "Train score is 0.8876404494382022\n",
    "Test score is 0.8333333333333334"
   ]
  },
  {
   "cell_type": "markdown",
   "metadata": {
    "colab_type": "text",
    "id": "JaO4QUJskcFd"
   },
   "source": [
    "# extra  tree"
   ]
  },
  {
   "cell_type": "code",
   "execution_count": 0,
   "metadata": {
    "colab": {},
    "colab_type": "code",
    "id": "qPVcXkRukcFe"
   },
   "outputs": [],
   "source": [
    "from  sklearn.ensemble import ExtraTreesClassifier"
   ]
  },
  {
   "cell_type": "code",
   "execution_count": 0,
   "metadata": {
    "colab": {
     "base_uri": "https://localhost:8080/",
     "height": 369
    },
    "colab_type": "code",
    "id": "cBkldQ6fkcFj",
    "outputId": "945f05b1-0dd6-4b44-eefc-336f96e4c267"
   },
   "outputs": [
    {
     "data": {
      "text/plain": [
       "GridSearchCV(cv=5, error_score=nan,\n",
       "             estimator=ExtraTreesClassifier(bootstrap=False, ccp_alpha=0.0,\n",
       "                                            class_weight=None, criterion='gini',\n",
       "                                            max_depth=None, max_features='auto',\n",
       "                                            max_leaf_nodes=None,\n",
       "                                            max_samples=None,\n",
       "                                            min_impurity_decrease=0.0,\n",
       "                                            min_impurity_split=None,\n",
       "                                            min_samples_leaf=1,\n",
       "                                            min_samples_split=2,\n",
       "                                            min_weight_fraction_leaf=0.0,\n",
       "                                            n_estimators=100, n_jobs=None,\n",
       "                                            oob_score=False, random_state=42,\n",
       "                                            verbose=0, warm_start=False),\n",
       "             iid='deprecated', n_jobs=-1,\n",
       "             param_grid={'criterion': ['gini', 'entropy'],\n",
       "                         'max_depth': [2, 4, 5, 6, 7, 8, 9, 10, 15],\n",
       "                         'max_features': ['auto', 'sqrt', 'log2'],\n",
       "                         'n_estimators': [200, 500, 600, 800]},\n",
       "             pre_dispatch='2*n_jobs', refit=True, return_train_score=True,\n",
       "             scoring=None, verbose=0)"
      ]
     },
     "execution_count": 49,
     "metadata": {
      "tags": []
     },
     "output_type": "execute_result"
    }
   ],
   "source": [
    "etc= ExtraTreesClassifier(random_state=42)\n",
    "etc_param = { \n",
    "    'n_estimators': [200, 500,600,800],\n",
    "    'max_features': ['auto', 'sqrt', 'log2'],\n",
    "    'max_depth' : [2,4,5,6,7,8,9,10,15],\n",
    "    'criterion' :['gini', 'entropy']\n",
    "}\n",
    "etc_grid = GridSearchCV(etc, etc_param,cv=5, return_train_score=True, n_jobs = -1 )\n",
    "etc_grid.fit(X_train,y_train)"
   ]
  },
  {
   "cell_type": "code",
   "execution_count": 0,
   "metadata": {
    "colab": {
     "base_uri": "https://localhost:8080/",
     "height": 104
    },
    "colab_type": "code",
    "id": "Eyeoc7k8kcFm",
    "outputId": "c1d66ebb-1c6d-48ac-840b-7a495af65372"
   },
   "outputs": [
    {
     "name": "stdout",
     "output_type": "stream",
     "text": [
      "Best Mean Cross Validation Score is 0.8327329192546584\n",
      "Best Mean Cross Validation Score is {'criterion': 'gini', 'max_depth': 8, 'max_features': 'auto', 'n_estimators': 800}\n",
      "Train score is 0.885143570536829\n",
      "Test score is 0.8444444444444444\n"
     ]
    }
   ],
   "source": [
    "print(f'Best Mean Cross Validation Score is {etc_grid.best_score_}')\n",
    "print(f'Best Mean Cross Validation Score is {etc_grid.best_params_}')\n",
    "print(f'Train score is {etc_grid.score(X_train,y_train)}')\n",
    "print(f'Test score is {etc_grid.score(X_test,y_test)}')"
   ]
  },
  {
   "cell_type": "markdown",
   "metadata": {
    "colab_type": "text",
    "id": "QbIPW5oekcFo"
   },
   "source": [
    "est Mean Cross Validation Score is 0.83270911360799\n",
    "Best Mean Cross Validation Score is {'criterion': 'gini', 'max_depth': 8, 'max_features': 'auto', 'n_estimators': 500}\n",
    "Train score is 0.885143570536829\n",
    "Test score is 0.8333333333333334"
   ]
  },
  {
   "cell_type": "markdown",
   "metadata": {
    "colab_type": "text",
    "id": "lxNo_UfQkcFp"
   },
   "source": [
    "# ada boost"
   ]
  },
  {
   "cell_type": "code",
   "execution_count": 0,
   "metadata": {
    "colab": {},
    "colab_type": "code",
    "id": "eM6nFzdxkcFp"
   },
   "outputs": [],
   "source": [
    "from sklearn.ensemble import AdaBoostClassifier"
   ]
  },
  {
   "cell_type": "code",
   "execution_count": 0,
   "metadata": {
    "colab": {
     "base_uri": "https://localhost:8080/",
     "height": 104
    },
    "colab_type": "code",
    "id": "Tje-4KbWkcFw",
    "outputId": "32b45bb5-20dc-4723-804c-9fc3dd387c58"
   },
   "outputs": [
    {
     "name": "stdout",
     "output_type": "stream",
     "text": [
      "Best Mean Cross Validation Score is 0.8189906832298137\n",
      "Best Mean Cross Validation Score is {'base_estimator__criterion': 'entropy', 'base_estimator__max_depth': 2, 'base_estimator__splitter': 'best', 'learning_rate': 0.5, 'n_estimators': 100}\n",
      "Train score is 0.9425717852684145\n",
      "Test score is 0.8222222222222222\n"
     ]
    }
   ],
   "source": [
    "adc_dtree =AdaBoostClassifier(base_estimator=DecisionTreeClassifier(),random_state=42)\n",
    "adc_dtree_param = {\n",
    "              'base_estimator__criterion' : [\"gini\", \"entropy\"],\n",
    "              'base_estimator__splitter' :   [\"best\", \"random\"],\n",
    "              'base_estimator__max_depth' : [2,4,6],\n",
    "              'n_estimators' : [100,150],\n",
    "              'learning_rate' : [0.5,1.0,2],\n",
    "             }\n",
    "adc_dtree_grid = GridSearchCV(adc_dtree, adc_dtree_param,cv=5, return_train_score=True,n_jobs = -1 )\n",
    "adc_dtree_grid.fit(X_train,y_train)\n",
    "\n",
    "print(f'Best Mean Cross Validation Score is {adc_dtree_grid.best_score_}')\n",
    "print(f'Best Mean Cross Validation Score is {adc_dtree_grid.best_params_}')\n",
    "print(f'Train score is {adc_dtree_grid.score(X_train,y_train)}')\n",
    "print(f'Test score is {adc_dtree_grid.score(X_test,y_test)}')"
   ]
  },
  {
   "cell_type": "markdown",
   "metadata": {
    "colab_type": "text",
    "id": "MHwItFHikcF1"
   },
   "source": [
    "# gradient boost"
   ]
  },
  {
   "cell_type": "code",
   "execution_count": 0,
   "metadata": {
    "colab": {
     "base_uri": "https://localhost:8080/",
     "height": 84
    },
    "colab_type": "code",
    "id": "5uNVSNObkcF2",
    "outputId": "a94a6ec0-5b5b-488d-c306-1c1c2408b00d"
   },
   "outputs": [
    {
     "name": "stdout",
     "output_type": "stream",
     "text": [
      "Best Mean Cross Validation Score is 0.8289829192546584\n",
      "Best Mean Cross Validation Score is {'learning_rate': 0.5, 'max_depth': 2, 'n_estimators': 100}\n",
      "Train score is 0.9300873907615481\n",
      "Test score is 0.8222222222222222\n"
     ]
    }
   ],
   "source": [
    "from  sklearn.ensemble import GradientBoostingClassifier\n",
    "gbc= GradientBoostingClassifier(random_state=42)\n",
    "gbc_param = {\n",
    "              'max_depth' : [2,3,4],\n",
    "              'n_estimators' : [100,150],\n",
    "              'learning_rate' : [0.5,1.0,2],\n",
    "             }\n",
    "gbc_grid = GridSearchCV(gbc, gbc_param,cv=5, return_train_score=True,n_jobs = -1 )\n",
    "gbc_grid.fit(X_train,y_train)\n",
    "\n",
    "print(f'Best Mean Cross Validation Score is {gbc_grid.best_score_}')\n",
    "print(f'Best Mean Cross Validation Score is {gbc_grid.best_params_}')\n",
    "print(f'Train score is {gbc_grid.score(X_train,y_train)}')\n",
    "print(f'Test score is {gbc_grid.score(X_test,y_test)}')"
   ]
  },
  {
   "cell_type": "markdown",
   "metadata": {
    "colab_type": "text",
    "id": "mfD1eidekcF4"
   },
   "source": [
    "# xgboost (best)"
   ]
  },
  {
   "cell_type": "code",
   "execution_count": 0,
   "metadata": {
    "colab": {
     "base_uri": "https://localhost:8080/",
     "height": 67
    },
    "colab_type": "code",
    "id": "fKB9aXNXkcF5",
    "outputId": "bec4d0cf-936e-4458-91de-19e4ed798357"
   },
   "outputs": [
    {
     "name": "stdout",
     "output_type": "stream",
     "text": [
      "Requirement already satisfied: xgboost in /usr/local/lib/python3.6/dist-packages (0.90)\n",
      "Requirement already satisfied: scipy in /usr/local/lib/python3.6/dist-packages (from xgboost) (1.4.1)\n",
      "Requirement already satisfied: numpy in /usr/local/lib/python3.6/dist-packages (from xgboost) (1.18.2)\n"
     ]
    }
   ],
   "source": [
    "pip install xgboost"
   ]
  },
  {
   "cell_type": "code",
   "execution_count": 0,
   "metadata": {
    "colab": {},
    "colab_type": "code",
    "id": "FqYSmVL-kcF7"
   },
   "outputs": [],
   "source": [
    "from xgboost import XGBClassifier"
   ]
  },
  {
   "cell_type": "code",
   "execution_count": 0,
   "metadata": {
    "colab": {
     "base_uri": "https://localhost:8080/",
     "height": 104
    },
    "colab_type": "code",
    "id": "7MejhVoYkcF_",
    "outputId": "65673e3c-870b-485c-9bce-829bcd4c64a4"
   },
   "outputs": [
    {
     "name": "stdout",
     "output_type": "stream",
     "text": [
      "Best Mean Cross Validation Score is 0.8489130434782609\n",
      "Best Mean Cross Validation Score is {'learning_rate': 0.2, 'max_depth': 6, 'min_child_weight': 7, 'n_estimators': 200, 'subsample': 0.6}\n",
      "Train score is 0.8913857677902621\n",
      "Test score is 0.8333333333333334\n"
     ]
    }
   ],
   "source": [
    "from  xgboost import XGBClassifier\n",
    "xgbc= XGBClassifier(random_state=42,early_stopping_rounds=2,objective= 'binary:logistic')\n",
    "xgbc_param = {\n",
    "              'max_depth' : [2,4,6],\n",
    "              'n_estimators' : [50,100,150,200],\n",
    "              'learning_rate' : [.01,0.1,0.2],\n",
    "               'min_child_weight' : [1,3,5,7],\n",
    "                'subsample':[0.1,0.6]\n",
    "             }\n",
    "xgbc_grid = GridSearchCV(xgbc, xgbc_param,cv=5, return_train_score=True, n_jobs = -1 )\n",
    "xgbc_grid.fit(X_train,y_train)\n",
    "\n",
    "print(f'Best Mean Cross Validation Score is {xgbc_grid.best_score_}')\n",
    "print(f'Best Mean Cross Validation Score is {xgbc_grid.best_params_}')\n",
    "print(f'Train score is {xgbc_grid.score(X_train,y_train)}')\n",
    "print(f'Test score is {xgbc_grid.score(X_test,y_test)}')"
   ]
  },
  {
   "cell_type": "markdown",
   "metadata": {
    "colab_type": "text",
    "id": "kxfrZqzBkcGB"
   },
   "source": [
    "Best Mean Cross Validation Score is 0.850187265917603\n",
    "Best Mean Cross Validation Score is {'learning_rate': 0.1, 'max_depth': 4, 'min_child_weight': 5, 'n_estimators': 150, 'subsample': 0.6}\n",
    "Train score is 0.8813982521847691\n",
    "Test score is 0.8333333333333334"
   ]
  },
  {
   "cell_type": "markdown",
   "metadata": {
    "colab_type": "text",
    "id": "skkmqrgJkcGB"
   },
   "source": [
    "Best Mean Cross Validation Score is {'learning_rate': 0.1, 'max_depth': 4, 'min_child_weight': 5, 'n_estimators': 150, 'subsample': 0.6}\n",
    "Train score is 0.8813982521847691\n",
    "Test score is 0.8333333333333334"
   ]
  },
  {
   "cell_type": "code",
   "execution_count": 0,
   "metadata": {
    "colab": {},
    "colab_type": "code",
    "id": "DCXxK5-RkcGC"
   },
   "outputs": [],
   "source": [
    "classifiers={\n",
    "    'logit':logreg_grid,\n",
    "'knn':grid_knn,\n",
    "'dtree':grid_dtree,\n",
    "'svc_rbf':grid_search_svc_rbf,\n",
    "'svc_lr':grid_search_svc_lr,\n",
    "'svc_poly':grid_search_svc_poly,\n",
    "#'svc_sig':grid_search_svc_sigmoid,\n",
    "            'bag_dtree1':bag_dtree1_grid, \n",
    "            'bag_dtree2':bag_dtree2_grid,\n",
    "           #  'bag_svrP':bag_svrP_grid1,\n",
    "            'paste_dtree1': paste_dtree1_grid,\n",
    "            'paste_dtree2': paste_dtree2_grid,\n",
    "           #  'paste_svrP': paste_svrP_grid,\n",
    "             'rfc': rfc_grid,          \n",
    "             'adc_dtree':adc_dtree_grid,\n",
    "             'gbc': gbc_grid,\n",
    "\t     'etc': etc_grid,\n",
    "             'xgbc': xgbc_grid}\n",
    "\n"
   ]
  },
  {
   "cell_type": "code",
   "execution_count": 0,
   "metadata": {
    "colab": {
     "base_uri": "https://localhost:8080/",
     "height": 53
    },
    "colab_type": "code",
    "id": "KLoB43FIkcGD",
    "outputId": "fe08ca36-e1aa-43de-a254-44eaa0402b96"
   },
   "outputs": [
    {
     "data": {
      "text/plain": [
       "dict_keys(['logit', 'knn', 'dtree', 'svc_rbf', 'svc_lr', 'svc_poly', 'bag_dtree1', 'bag_dtree2', 'paste_dtree1', 'paste_dtree2', 'rfc', 'adc_dtree', 'gbc', 'etc', 'xgbc'])"
      ]
     },
     "execution_count": 82,
     "metadata": {
      "tags": []
     },
     "output_type": "execute_result"
    }
   ],
   "source": [
    "classifiers.keys()"
   ]
  },
  {
   "cell_type": "code",
   "execution_count": 0,
   "metadata": {
    "colab": {
     "base_uri": "https://localhost:8080/",
     "height": 53
    },
    "colab_type": "code",
    "id": "QhDCWgnakcGG",
    "outputId": "53e29f67-6889-49b4-ca73-6dc451243f93"
   },
   "outputs": [
    {
     "data": {
      "text/plain": [
       "dict_keys(['logit', 'knn', 'dtree', 'svc_rbf', 'svc_lr', 'svc_poly', 'bag_dtree1', 'bag_dtree2', 'paste_dtree1', 'paste_dtree2', 'rfc', 'adc_dtree', 'gbc', 'etc', 'xgbc'])"
      ]
     },
     "execution_count": 83,
     "metadata": {
      "tags": []
     },
     "output_type": "execute_result"
    }
   ],
   "source": [
    "classifiers.keys()"
   ]
  },
  {
   "cell_type": "code",
   "execution_count": 0,
   "metadata": {
    "colab": {},
    "colab_type": "code",
    "id": "gxDe9Qa_kcGI"
   },
   "outputs": [],
   "source": [
    "results_mean_std = []\n",
    "for  key, value in classifiers.items():\n",
    "    mean = value.cv_results_['mean_test_score'][value.best_index_]\n",
    "    std=value.cv_results_['std_test_score'][value.best_index_]\n",
    "     \n",
    "    results_mean_std.append({\n",
    "        \"model\": key,\n",
    "        \"mean\": mean,\n",
    "        \"std\": std\n",
    "    })"
   ]
  },
  {
   "cell_type": "code",
   "execution_count": 0,
   "metadata": {
    "colab": {},
    "colab_type": "code",
    "id": "N65tE6mrkcGJ"
   },
   "outputs": [],
   "source": [
    "# Create a Pandas DataFrame with the mean+std results\n",
    "accuracy_df = pd.DataFrame(results_mean_std, columns=['model', 'mean', 'std'])"
   ]
  },
  {
   "cell_type": "code",
   "execution_count": 0,
   "metadata": {
    "colab": {
     "base_uri": "https://localhost:8080/",
     "height": 225
    },
    "colab_type": "code",
    "id": "ufNA-PR5kcGK",
    "outputId": "36901e99-b2a7-4ee5-c8bf-70fa2c758830"
   },
   "outputs": [
    {
     "data": {
      "text/html": [
       "<div>\n",
       "<style scoped>\n",
       "    .dataframe tbody tr th:only-of-type {\n",
       "        vertical-align: middle;\n",
       "    }\n",
       "\n",
       "    .dataframe tbody tr th {\n",
       "        vertical-align: top;\n",
       "    }\n",
       "\n",
       "    .dataframe thead th {\n",
       "        text-align: right;\n",
       "    }\n",
       "</style>\n",
       "<table border=\"1\" class=\"dataframe\">\n",
       "  <thead>\n",
       "    <tr style=\"text-align: right;\">\n",
       "      <th></th>\n",
       "      <th>model</th>\n",
       "      <th>mean</th>\n",
       "      <th>std</th>\n",
       "    </tr>\n",
       "  </thead>\n",
       "  <tbody>\n",
       "    <tr>\n",
       "      <th>14</th>\n",
       "      <td>xgbc</td>\n",
       "      <td>0.848913</td>\n",
       "      <td>0.022989</td>\n",
       "    </tr>\n",
       "    <tr>\n",
       "      <th>10</th>\n",
       "      <td>rfc</td>\n",
       "      <td>0.842717</td>\n",
       "      <td>0.017196</td>\n",
       "    </tr>\n",
       "    <tr>\n",
       "      <th>6</th>\n",
       "      <td>bag_dtree1</td>\n",
       "      <td>0.840210</td>\n",
       "      <td>0.019516</td>\n",
       "    </tr>\n",
       "    <tr>\n",
       "      <th>8</th>\n",
       "      <td>paste_dtree1</td>\n",
       "      <td>0.840202</td>\n",
       "      <td>0.028103</td>\n",
       "    </tr>\n",
       "    <tr>\n",
       "      <th>7</th>\n",
       "      <td>bag_dtree2</td>\n",
       "      <td>0.836475</td>\n",
       "      <td>0.026783</td>\n",
       "    </tr>\n",
       "    <tr>\n",
       "      <th>9</th>\n",
       "      <td>paste_dtree2</td>\n",
       "      <td>0.836475</td>\n",
       "      <td>0.026783</td>\n",
       "    </tr>\n",
       "  </tbody>\n",
       "</table>\n",
       "</div>"
      ],
      "text/plain": [
       "           model      mean       std\n",
       "14          xgbc  0.848913  0.022989\n",
       "10           rfc  0.842717  0.017196\n",
       "6     bag_dtree1  0.840210  0.019516\n",
       "8   paste_dtree1  0.840202  0.028103\n",
       "7     bag_dtree2  0.836475  0.026783\n",
       "9   paste_dtree2  0.836475  0.026783"
      ]
     },
     "execution_count": 86,
     "metadata": {
      "tags": []
     },
     "output_type": "execute_result"
    }
   ],
   "source": [
    "# Show the accuracy dataframe\n",
    "\n",
    "accuracy_df.sort_values(by=['mean'], inplace=True,ascending=False)\n",
    "accuracy_df.head(6)"
   ]
  },
  {
   "cell_type": "code",
   "execution_count": 0,
   "metadata": {
    "colab": {},
    "colab_type": "code",
    "id": "Q7tZ1Wh8kcGQ"
   },
   "outputs": [],
   "source": [
    "accuracy_df.to_csv('accuracy_df_class.csv')"
   ]
  },
  {
   "cell_type": "code",
   "execution_count": 0,
   "metadata": {
    "colab": {},
    "colab_type": "code",
    "id": "qvEEOUeckcGU"
   },
   "outputs": [],
   "source": [
    "# Create a prediction of all models on the test set\n",
    "predictions_all = {}\n",
    "for  key, value in classifiers.items():\n",
    "    # Get best estimator\n",
    "    best_model = value.best_estimator_\n",
    "    \n",
    "    # Predict test labels\n",
    "    predictions = best_model.predict(X_test)\n",
    "    \n",
    "    # Save predictions to a list\n",
    "    predictions_all[key] = predictions"
   ]
  },
  {
   "cell_type": "code",
   "execution_count": 0,
   "metadata": {
    "colab": {},
    "colab_type": "code",
    "id": "F7yZNXYr_eNf"
   },
   "outputs": [],
   "source": []
  },
  {
   "cell_type": "code",
   "execution_count": 0,
   "metadata": {
    "colab": {},
    "colab_type": "code",
    "id": "0ubB5rWQkcGV"
   },
   "outputs": [],
   "source": [
    "# Creat a DataFrame for the predictions\n",
    "pred = pd.DataFrame(predictions_all)\n"
   ]
  },
  {
   "cell_type": "code",
   "execution_count": 0,
   "metadata": {
    "colab": {},
    "colab_type": "code",
    "id": "BohvGmZC_JOR"
   },
   "outputs": [],
   "source": [
    "pred = pd.DataFrame(predictions_all)"
   ]
  },
  {
   "cell_type": "markdown",
   "metadata": {
    "colab_type": "text",
    "id": "EYapRs8jkcGX"
   },
   "source": [
    "# corr"
   ]
  },
  {
   "cell_type": "code",
   "execution_count": 0,
   "metadata": {
    "colab": {},
    "colab_type": "code",
    "id": "cn8tHur1kcGY"
   },
   "outputs": [],
   "source": [
    "pred.to_csv('pred_class.csv')"
   ]
  },
  {
   "cell_type": "markdown",
   "metadata": {
    "colab_type": "text",
    "id": "VHa6_P2dkcGa"
   },
   "source": [
    "# corr"
   ]
  },
  {
   "cell_type": "code",
   "execution_count": 0,
   "metadata": {
    "colab": {
     "base_uri": "https://localhost:8080/",
     "height": 576
    },
    "colab_type": "code",
    "id": "msfg9ZdWkcGb",
    "outputId": "5c5016c9-fc88-479f-c7da-d3123f1b8353"
   },
   "outputs": [
    {
     "data": {
      "text/plain": [
       "Text(0.5, 1.0, 'Correlation of the test set label prediction between models')"
      ]
     },
     "execution_count": 92,
     "metadata": {
      "tags": []
     },
     "output_type": "execute_result"
    },
    {
     "data": {
      "image/png": "[encoded data removed]",
      "text/plain": [
       "<Figure size 1152x648 with 2 Axes>"
      ]
     },
     "metadata": {
      "needs_background": "light",
      "tags": []
     },
     "output_type": "display_data"
    }
   ],
   "source": [
    "# Plot a heatmap of all correlations for easier visualization\n",
    "fig, ax = plt.subplots(nrows=1, ncols=1, figsize=(16,9))\n",
    "g = sns.heatmap(pred.corr(), annot=True, cmap='YlGnBu', ax=ax)\n",
    "g.set_title('Correlation of the test set label prediction between models')"
   ]
  },
  {
   "cell_type": "markdown",
   "metadata": {
    "colab_type": "text",
    "id": "EYtwPMZhEGH4"
   },
   "source": []
  },
  {
   "cell_type": "code",
   "execution_count": 0,
   "metadata": {
    "colab": {},
    "colab_type": "code",
    "id": "MOlUZ8_rkcGe"
   },
   "outputs": [],
   "source": [
    "def get_redundant_pairs(df):\n",
    "    '''Get diagonal and lower triangular pairs of correlation matrix'''\n",
    "    pairs_to_drop = set()\n",
    "    cols = df.columns\n",
    "    for i in range(0, df.shape[1]):\n",
    "        for j in range(0, i+1):\n",
    "            pairs_to_drop.add((cols[i], cols[j]))\n",
    "    return pairs_to_drop\n",
    "\n",
    "def get_top_abs_correlations(df, n):\n",
    "    au_corr = df.corr().abs().unstack()\n",
    "    labels_to_drop = get_redundant_pairs(df)\n",
    "    au_corr = au_corr.drop(labels=labels_to_drop).sort_values(ascending=True)\n",
    "    return au_corr[0:n]"
   ]
  },
  {
   "cell_type": "code",
   "execution_count": 0,
   "metadata": {
    "colab": {
     "base_uri": "https://localhost:8080/",
     "height": 302
    },
    "colab_type": "code",
    "id": "ZvriGfArkcGj",
    "outputId": "01cf5f63-f6b5-4e72-d88d-ab70a60e76c4"
   },
   "outputs": [
    {
     "name": "stdout",
     "output_type": "stream",
     "text": [
      "Top Absolute Correlations\n",
      "knn      svc_poly        0.392953\n",
      "         etc             0.459657\n",
      "logit    knn             0.493899\n",
      "knn      rfc             0.522383\n",
      "         dtree           0.522383\n",
      "         svc_lr          0.527311\n",
      "svc_rbf  bag_dtree2      0.544398\n",
      "         bag_dtree1      0.544398\n",
      "         paste_dtree2    0.544398\n",
      "knn      paste_dtree1    0.544444\n",
      "svc_rbf  paste_dtree1    0.545791\n",
      "knn      paste_dtree2    0.548491\n",
      "         bag_dtree2      0.548491\n",
      "         bag_dtree1      0.548491\n",
      "         gbc             0.559957\n",
      "dtype: float64\n"
     ]
    }
   ],
   "source": [
    "print(\"Top Absolute Correlations\")\n",
    "print(get_top_abs_correlations(pred, 15))"
   ]
  },
  {
   "cell_type": "code",
   "execution_count": 0,
   "metadata": {
    "colab": {
     "base_uri": "https://localhost:8080/",
     "height": 302
    },
    "colab_type": "code",
    "id": "LXl6566mkcGl",
    "outputId": "74c73ec3-acad-4722-cde4-9ce8c3c781d4"
   },
   "outputs": [
    {
     "name": "stdout",
     "output_type": "stream",
     "text": [
      "Top Absolute Correlations\n",
      "knn      svc_poly        0.392953\n",
      "         etc             0.459657\n",
      "logit    knn             0.493899\n",
      "knn      rfc             0.522383\n",
      "         dtree           0.522383\n",
      "         svc_lr          0.527311\n",
      "svc_rbf  bag_dtree2      0.544398\n",
      "         bag_dtree1      0.544398\n",
      "         paste_dtree2    0.544398\n",
      "knn      paste_dtree1    0.544444\n",
      "svc_rbf  paste_dtree1    0.545791\n",
      "knn      paste_dtree2    0.548491\n",
      "         bag_dtree2      0.548491\n",
      "         bag_dtree1      0.548491\n",
      "         gbc             0.559957\n",
      "dtype: float64\n"
     ]
    }
   ],
   "source": [
    "print(\"Top Absolute Correlations\")\n",
    "print(get_top_abs_correlations(pred, 15))"
   ]
  },
  {
   "cell_type": "markdown",
   "metadata": {
    "colab_type": "text",
    "id": "6MX9N1AGkcGn"
   },
   "source": [
    "# Voting top 5"
   ]
  },
  {
   "cell_type": "code",
   "execution_count": 0,
   "metadata": {
    "colab": {},
    "colab_type": "code",
    "id": "NjfJkoE3kcGn"
   },
   "outputs": [],
   "source": [
    "from sklearn.ensemble import VotingClassifier\n",
    "from sklearn.ensemble import VotingRegressor"
   ]
  },
  {
   "cell_type": "code",
   "execution_count": 0,
   "metadata": {
    "colab": {
     "base_uri": "https://localhost:8080/",
     "height": 553
    },
    "colab_type": "code",
    "id": "RXIgzzRYkcGp",
    "outputId": "0743a7bd-518e-470f-a18d-1ae8400d1704"
   },
   "outputs": [
    {
     "data": {
      "text/plain": [
       "GridSearchCV(cv=5, error_score=nan,\n",
       "             estimator=VotingClassifier(estimators=[('xgbc',\n",
       "                                                     XGBClassifier(base_score=0.5,\n",
       "                                                                   booster='gbtree',\n",
       "                                                                   colsample_bylevel=1,\n",
       "                                                                   colsample_bynode=1,\n",
       "                                                                   colsample_bytree=1,\n",
       "                                                                   early_stopping_rounds=2,\n",
       "                                                                   gamma=0,\n",
       "                                                                   learning_rate=0.2,\n",
       "                                                                   max_delta_step=0,\n",
       "                                                                   max_depth=6,\n",
       "                                                                   min_child_weight=7,\n",
       "                                                                   missing=None,\n",
       "                                                                   n_estimators=200,\n",
       "                                                                   n_jobs=1,\n",
       "                                                                   nthread=None,\n",
       "                                                                   objective='bina...\n",
       "                                                                       bootstrap_features=False,\n",
       "                                                                       max_features=1.0,\n",
       "                                                                       max_samples=0.8,\n",
       "                                                                       n_estimators=100,\n",
       "                                                                       n_jobs=None,\n",
       "                                                                       oob_score=False,\n",
       "                                                                       random_state=0,\n",
       "                                                                       verbose=0,\n",
       "                                                                       warm_start=False))],\n",
       "                                        flatten_transform=True, n_jobs=None,\n",
       "                                        voting='hard', weights=None),\n",
       "             iid='deprecated', n_jobs=None,\n",
       "             param_grid={'voting': ['hard', 'soft']}, pre_dispatch='2*n_jobs',\n",
       "             refit=True, return_train_score=True, scoring=None, verbose=0)"
      ]
     },
     "execution_count": 97,
     "metadata": {
      "tags": []
     },
     "output_type": "execute_result"
    }
   ],
   "source": [
    "vclf1 = VotingClassifier(estimators=\n",
    "                              [('xgbc', xgbc_grid.best_estimator_), \n",
    "                               ('rfc', rfc_grid.best_estimator_), \n",
    "                               ('bag_dtree1', bag_dtree1_grid.best_estimator_),\n",
    "                               ('paste_dtree1', paste_dtree1_grid.best_estimator_),\n",
    "                               ('bag_dtree2', bag_dtree2_grid.best_estimator_)\n",
    "                              ], )\n",
    "vclf1_param = {\n",
    "              'voting' : ['hard','soft'],\n",
    "             }\n",
    "vclf1_grid = GridSearchCV(vclf1, vclf1_param,cv=5, return_train_score=True, )\n",
    "vclf1_grid.fit(X_train,y_train)"
   ]
  },
  {
   "cell_type": "markdown",
   "metadata": {},
   "source": [
    "## Voting top cv"
   ]
  },
  {
   "cell_type": "code",
   "execution_count": 0,
   "metadata": {
    "colab": {
     "base_uri": "https://localhost:8080/",
     "height": 84
    },
    "colab_type": "code",
    "id": "YsE3Pzy0Crki",
    "outputId": "508191dd-d86d-480d-9ab9-b1aaf8f25696"
   },
   "outputs": [
    {
     "name": "stdout",
     "output_type": "stream",
     "text": [
      "Best Mean Cross Validation Score is 0.8476863354037267\n",
      "Best Mean Cross Validation Score is {'voting': 'soft'}\n",
      "Train score is 0.9088639200998752\n",
      "Test score is 0.8222222222222222\n"
     ]
    }
   ],
   "source": [
    "print(f'Best Mean Cross Validation Score is {vclf1_grid.best_score_}')\n",
    "print(f'Best Mean Cross Validation Score is {vclf1_grid.best_params_}')\n",
    "print(f'Train score is {vclf1_grid.score(X_train,y_train)}')\n",
    "print(f'Test score is {vclf1_grid.score(X_test,y_test)}')"
   ]
  },
  {
   "cell_type": "markdown",
   "metadata": {},
   "source": [
    "## Voting corr"
   ]
  },
  {
   "cell_type": "code",
   "execution_count": 0,
   "metadata": {
    "colab": {
     "base_uri": "https://localhost:8080/",
     "height": 523
    },
    "colab_type": "code",
    "id": "nSvd1Ym2CyO6",
    "outputId": "34a52e9d-19ca-4973-efac-fe96af70c941"
   },
   "outputs": [
    {
     "data": {
      "text/plain": [
       "GridSearchCV(cv=5, error_score=nan,\n",
       "             estimator=VotingClassifier(estimators=[('knn',\n",
       "                                                     KNeighborsClassifier(algorithm='auto',\n",
       "                                                                          leaf_size=30,\n",
       "                                                                          metric='minkowski',\n",
       "                                                                          metric_params=None,\n",
       "                                                                          n_jobs=None,\n",
       "                                                                          n_neighbors=7,\n",
       "                                                                          p=2,\n",
       "                                                                          weights='uniform')),\n",
       "                                                    ('adc_dtree',\n",
       "                                                     AdaBoostClassifier(algorithm='SAMME.R',\n",
       "                                                                        base_estimator=DecisionTreeClassifier(ccp_alpha=0.0,\n",
       "                                                                                                              class_weight=None,\n",
       "                                                                                                              criterion...\n",
       "                                                         decision_function_shape='ovr',\n",
       "                                                         degree=3, gamma=0.001,\n",
       "                                                         kernel='rbf',\n",
       "                                                         max_iter=-1,\n",
       "                                                         probability=True,\n",
       "                                                         random_state=None,\n",
       "                                                         shrinking=True,\n",
       "                                                         tol=0.001,\n",
       "                                                         verbose=False))],\n",
       "                                        flatten_transform=True, n_jobs=None,\n",
       "                                        voting='hard', weights=None),\n",
       "             iid='deprecated', n_jobs=None,\n",
       "             param_grid={'voting': ['hard', 'soft']}, pre_dispatch='2*n_jobs',\n",
       "             refit=True, return_train_score=True, scoring=None, verbose=0)"
      ]
     },
     "execution_count": 106,
     "metadata": {
      "tags": []
     },
     "output_type": "execute_result"
    }
   ],
   "source": [
    "vclf2 = VotingClassifier(estimators=\n",
    "                              [('knn', grid_knn.best_estimator_), \n",
    "                               ('adc_dtree', adc_dtree_grid.best_estimator_), \n",
    "                               ('svc_poly', grid_search_svc_poly.best_estimator_),\n",
    "                               ('svc_rbf', grid_search_svc_rbf.best_estimator_),\n",
    "                                                            ], )\n",
    "#knn adc_dtree svc_poly svc rbf\n",
    "vclf2_param = {\n",
    "              'voting' : ['hard','soft'],\n",
    "             }\n",
    "vclf2_grid = GridSearchCV(vclf2, vclf2_param,cv=5, return_train_score=True, )\n",
    "vclf2_grid.fit(X_train,y_train)"
   ]
  },
  {
   "cell_type": "code",
   "execution_count": 0,
   "metadata": {
    "colab": {
     "base_uri": "https://localhost:8080/",
     "height": 84
    },
    "colab_type": "code",
    "id": "Zd02h9l1Fvrp",
    "outputId": "8b885656-bc13-4239-b279-8e948251ee5c"
   },
   "outputs": [
    {
     "name": "stdout",
     "output_type": "stream",
     "text": [
      "Best Mean Cross Validation Score is 0.8252639751552795\n",
      "Best Mean Cross Validation Score is {'voting': 'hard'}\n",
      "Train score is 0.9026217228464419\n",
      "Test score is 0.8555555555555555\n"
     ]
    }
   ],
   "source": [
    "print(f'Best Mean Cross Validation Score is {vclf2_grid.best_score_}')\n",
    "print(f'Best Mean Cross Validation Score is {vclf2_grid.best_params_}')\n",
    "print(f'Train score is {vclf2_grid.score(X_train,y_train)}')\n",
    "print(f'Test score is {vclf2_grid.score(X_test,y_test)}')"
   ]
  },
  {
   "cell_type": "markdown",
   "metadata": {},
   "source": [
    "# Stacking"
   ]
  },
  {
   "cell_type": "code",
   "execution_count": 0,
   "metadata": {
    "colab": {},
    "colab_type": "code",
    "id": "FIbucyThF6xD"
   },
   "outputs": [],
   "source": [
    "from sklearn.ensemble import StackingClassifier"
   ]
  },
  {
   "cell_type": "markdown",
   "metadata": {},
   "source": [
    "## Stacking top cv (best)\n"
   ]
  },
  {
   "cell_type": "code",
   "execution_count": 0,
   "metadata": {
    "colab": {
     "base_uri": "https://localhost:8080/",
     "height": 570
    },
    "colab_type": "code",
    "id": "rGx85IwtGCM2",
    "outputId": "2c1ed9c6-2651-4f6f-82fb-0e44f82f5bb0"
   },
   "outputs": [
    {
     "data": {
      "text/plain": [
       "GridSearchCV(cv=5, error_score=nan,\n",
       "             estimator=StackingClassifier(cv=None,\n",
       "                                          estimators=[('xgbc',\n",
       "                                                       XGBClassifier(base_score=0.5,\n",
       "                                                                     booster='gbtree',\n",
       "                                                                     colsample_bylevel=1,\n",
       "                                                                     colsample_bynode=1,\n",
       "                                                                     colsample_bytree=1,\n",
       "                                                                     early_stopping_rounds=2,\n",
       "                                                                     gamma=0,\n",
       "                                                                     learning_rate=0.2,\n",
       "                                                                     max_delta_step=0,\n",
       "                                                                     max_depth=6,\n",
       "                                                                     min_child_weight=7,\n",
       "                                                                     missing=None,\n",
       "                                                                     n_estimators=200,\n",
       "                                                                     n_jobs=1,\n",
       "                                                                     nthread=None,\n",
       "                                                                     objec...\n",
       "                                                                             n_jobs=None,\n",
       "                                                                             penalty='l2',\n",
       "                                                                             random_state=None,\n",
       "                                                                             solver='lbfgs',\n",
       "                                                                             tol=0.0001,\n",
       "                                                                             verbose=0,\n",
       "                                                                             warm_start=False),\n",
       "                                          n_jobs=None, passthrough=False,\n",
       "                                          stack_method='auto', verbose=0),\n",
       "             iid='deprecated', n_jobs=None,\n",
       "             param_grid={'final_estimator__C': [0.1, 0.2],\n",
       "                         'stack_method': ['auto', 'predict_proba']},\n",
       "             pre_dispatch='2*n_jobs', refit=True, return_train_score=True,\n",
       "             scoring=None, verbose=0)"
      ]
     },
     "execution_count": 109,
     "metadata": {
      "tags": []
     },
     "output_type": "execute_result"
    }
   ],
   "source": [
    "sclf1 = StackingClassifier(estimators=\n",
    "                              [('xgbc', xgbc_grid.best_estimator_), \n",
    "                               ('rfc', rfc_grid.best_estimator_), \n",
    "                               ('bag_dtree1', bag_dtree1_grid.best_estimator_),\n",
    "                               ('paste_dtree1', paste_dtree1_grid.best_estimator_),\n",
    "                               ('bag_dtree2', bag_dtree2_grid.best_estimator_)\n",
    "                              ],  final_estimator=LogisticRegression())\n",
    "sclf1_param = {\n",
    "              'final_estimator__C' : [0.1,0.2],\n",
    "              'stack_method':['auto', 'predict_proba']\n",
    "             }\n",
    "sclf1_grid = GridSearchCV(sclf1, sclf1_param,cv=5, return_train_score=True, )\n",
    "sclf1_grid.fit(X_train,y_train)"
   ]
  },
  {
   "cell_type": "markdown",
   "metadata": {
    "colab_type": "text",
    "id": "bXWiFsLWEELJ"
   },
   "source": []
  },
  {
   "cell_type": "code",
   "execution_count": 0,
   "metadata": {
    "colab": {
     "base_uri": "https://localhost:8080/",
     "height": 84
    },
    "colab_type": "code",
    "id": "Am9QPYjJGGeb",
    "outputId": "727c4633-f49a-475b-d9f8-dbacc8af89f4"
   },
   "outputs": [
    {
     "name": "stdout",
     "output_type": "stream",
     "text": [
      "Best Mean Cross Validation Score is 0.8501863354037267\n",
      "Best Mean Cross Validation Score is {'final_estimator__C': 0.2, 'stack_method': 'auto'}\n",
      "Train score is 0.9113607990012484\n",
      "Test score is 0.8222222222222222\n"
     ]
    }
   ],
   "source": [
    "print(f'Best Mean Cross Validation Score is {sclf1_grid.best_score_}')\n",
    "print(f'Best Mean Cross Validation Score is {sclf1_grid.best_params_}')\n",
    "print(f'Train score is {sclf1_grid.score(X_train,y_train)}')\n",
    "print(f'Test score is {sclf1_grid.score(X_test,y_test)}')"
   ]
  },
  {
   "cell_type": "markdown",
   "metadata": {},
   "source": [
    "## Stacking corr"
   ]
  },
  {
   "cell_type": "code",
   "execution_count": 0,
   "metadata": {
    "colab": {
     "base_uri": "https://localhost:8080/",
     "height": 439
    },
    "colab_type": "code",
    "id": "Rlf2w2LuGNZz",
    "outputId": "0eaada5f-1f83-4121-c9ea-3d3faa6dc851"
   },
   "outputs": [
    {
     "data": {
      "text/plain": [
       "GridSearchCV(cv=5, error_score=nan,\n",
       "             estimator=StackingClassifier(cv=None,\n",
       "                                          estimators=[('knn',\n",
       "                                                       KNeighborsClassifier(algorithm='auto',\n",
       "                                                                            leaf_size=30,\n",
       "                                                                            metric='minkowski',\n",
       "                                                                            metric_params=None,\n",
       "                                                                            n_jobs=None,\n",
       "                                                                            n_neighbors=7,\n",
       "                                                                            p=2,\n",
       "                                                                            weights='uniform')),\n",
       "                                                      ('adc_dtree',\n",
       "                                                       AdaBoostClassifier(algorithm='SAMME.R',\n",
       "                                                                          base_estimator=DecisionTreeClassifier(ccp_alpha=0.0,\n",
       "                                                                                                                class_weight=None...\n",
       "             iid='deprecated', n_jobs=None,\n",
       "             param_grid={'final_estimator__learning_rate': [0.1, 0.6, 0.8],\n",
       "                         'final_estimator__max_depth': [2, 6],\n",
       "                         'final_estimator__min_child_weight': [1, 3, 7],\n",
       "                         'final_estimator__n_estimators': [50, 150],\n",
       "                         'final_estimator__subsample': [0.6, 0.9, 1],\n",
       "                         'stack_method': ['auto', 'predict_proba']},\n",
       "             pre_dispatch='2*n_jobs', refit=True, return_train_score=True,\n",
       "             scoring=None, verbose=0)"
      ]
     },
     "execution_count": 111,
     "metadata": {
      "tags": []
     },
     "output_type": "execute_result"
    }
   ],
   "source": [
    "sclf2 = StackingClassifier(estimators=\n",
    "                              [('knn', grid_knn.best_estimator_), \n",
    "                               ('adc_dtree', adc_dtree_grid.best_estimator_), \n",
    "                               ('svc_poly', grid_search_svc_poly.best_estimator_),\n",
    "                               ('svc_rbf', grid_search_svc_rbf.best_estimator_) ],\n",
    "                           final_estimator=\n",
    "                           XGBClassifier(random_state=42,early_stopping_rounds=2,objective= 'binary:logistic'))\n",
    "sclf2_param = {\n",
    "              'final_estimator__max_depth' : [2,6],\n",
    "              'final_estimator__n_estimators' : [50,150],\n",
    "              'final_estimator__learning_rate' : [0.1,0.6,0.8],\n",
    "              'final_estimator__min_child_weight' : [1,3,7],\n",
    "              'final_estimator__subsample':[0.6,0.9,1],\n",
    "              'stack_method':['auto', 'predict_proba']\n",
    "             }\n",
    "sclf2_grid = GridSearchCV(sclf2, sclf2_param,cv=5, return_train_score=True, )\n",
    "sclf2_grid.fit(X_train,y_train)"
   ]
  },
  {
   "cell_type": "markdown",
   "metadata": {
    "colab_type": "text",
    "id": "oUiIvguIVtwk"
   },
   "source": []
  },
  {
   "cell_type": "code",
   "execution_count": 0,
   "metadata": {
    "colab": {
     "base_uri": "https://localhost:8080/",
     "height": 104
    },
    "colab_type": "code",
    "id": "-r40234MGPui",
    "outputId": "5200eea9-1a8d-4110-80a1-4c47759d11aa"
   },
   "outputs": [
    {
     "name": "stdout",
     "output_type": "stream",
     "text": [
      "Best Mean Cross Validation Score is 0.833998447204969\n",
      "Best Mean Cross Validation Score is {'final_estimator__learning_rate': 0.1, 'final_estimator__max_depth': 2, 'final_estimator__min_child_weight': 7, 'final_estimator__n_estimators': 50, 'final_estimator__subsample': 0.6, 'stack_method': 'predict_proba'}\n",
      "Train score is 0.9151061173533084\n",
      "Test score is 0.8555555555555555\n"
     ]
    }
   ],
   "source": [
    "print(f'Best Mean Cross Validation Score is {sclf2_grid.best_score_}')\n",
    "print(f'Best Mean Cross Validation Score is {sclf2_grid.best_params_}')\n",
    "print(f'Train score is {sclf2_grid.score(X_train,y_train)}')\n",
    "print(f'Test score is {sclf2_grid.score(X_test,y_test)}')"
   ]
  }
 ],
 "metadata": {
  "colab": {
   "collapsed_sections": [],
   "name": "HW2_Classification_Vijay.ipynb",
   "provenance": []
  },
  "kernelspec": {
   "display_name": "Python 3",
   "language": "python",
   "name": "python3"
  },
  "language_info": {
   "codemirror_mode": {
    "name": "ipython",
    "version": 3
   },
   "file_extension": ".py",
   "mimetype": "text/x-python",
   "name": "python",
   "nbconvert_exporter": "python",
   "pygments_lexer": "ipython3",
   "version": "3.7.6"
  },
  "toc": {
   "base_numbering": 1,
   "nav_menu": {},
   "number_sections": true,
   "sideBar": true,
   "skip_h1_title": false,
   "title_cell": "Table of Contents",
   "title_sidebar": "Contents",
   "toc_cell": false,
   "toc_position": {},
   "toc_section_display": true,
   "toc_window_display": true
  },
  "varInspector": {
   "cols": {
    "lenName": 16,
    "lenType": 16,
    "lenVar": 40
   },
   "kernels_config": {
    "python": {
     "delete_cmd_postfix": "",
     "delete_cmd_prefix": "del ",
     "library": "var_list.py",
     "varRefreshCmd": "print(var_dic_list())"
    },
    "r": {
     "delete_cmd_postfix": ") ",
     "delete_cmd_prefix": "rm(",
     "library": "var_list.r",
     "varRefreshCmd": "cat(var_dic_list()) "
    }
   },
   "types_to_exclude": [
    "module",
    "function",
    "builtin_function_or_method",
    "instance",
    "_Feature"
   ],
   "window_display": true
  }
 },
 "nbformat": 4,
 "nbformat_minor": 1
}
